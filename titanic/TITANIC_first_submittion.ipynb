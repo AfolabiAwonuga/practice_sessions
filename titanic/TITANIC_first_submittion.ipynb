{
 "cells": [
  {
   "cell_type": "code",
   "execution_count": 3,
   "id": "768f9193",
   "metadata": {},
   "outputs": [],
   "source": [
    "import pandas as pd \n",
    "import numpy as np\n",
    "import re \n",
    "import matplotlib.pyplot as plt \n",
    "import seaborn as sns \n",
    "import missingno as msno "
   ]
  },
  {
   "cell_type": "markdown",
   "id": "3abc32ae",
   "metadata": {},
   "source": [
    "# TASK \n",
    "##### what sorts of people were more likely to survive the **titanic** shipwreck ?"
   ]
  },
  {
   "cell_type": "code",
   "execution_count": 4,
   "id": "31ed560d",
   "metadata": {},
   "outputs": [],
   "source": [
    "# Setting pandas options \n",
    "pd.set_option('display.max_colwidth', None)\n",
    "pd.set_option('display.max_columns', None)\n",
    "# pd.set_option('display.max_rows', None)\n",
    "plt.rcParams['figure.figsize'] = (10,8)"
   ]
  },
  {
   "cell_type": "code",
   "execution_count": 5,
   "id": "1e6595fb",
   "metadata": {
    "scrolled": true
   },
   "outputs": [],
   "source": [
    "data = pd.read_csv('train.csv')"
   ]
  },
  {
   "cell_type": "markdown",
   "id": "15a8bc59",
   "metadata": {},
   "source": [
    "### GETTING FAMILIAR WITH THE DATASET"
   ]
  },
  {
   "cell_type": "code",
   "execution_count": 6,
   "id": "dd346e76",
   "metadata": {
    "scrolled": true
   },
   "outputs": [
    {
     "data": {
      "text/html": [
       "<div>\n",
       "<style scoped>\n",
       "    .dataframe tbody tr th:only-of-type {\n",
       "        vertical-align: middle;\n",
       "    }\n",
       "\n",
       "    .dataframe tbody tr th {\n",
       "        vertical-align: top;\n",
       "    }\n",
       "\n",
       "    .dataframe thead th {\n",
       "        text-align: right;\n",
       "    }\n",
       "</style>\n",
       "<table border=\"1\" class=\"dataframe\">\n",
       "  <thead>\n",
       "    <tr style=\"text-align: right;\">\n",
       "      <th></th>\n",
       "      <th>PassengerId</th>\n",
       "      <th>Survived</th>\n",
       "      <th>Pclass</th>\n",
       "      <th>Name</th>\n",
       "      <th>Sex</th>\n",
       "      <th>Age</th>\n",
       "      <th>SibSp</th>\n",
       "      <th>Parch</th>\n",
       "      <th>Ticket</th>\n",
       "      <th>Fare</th>\n",
       "      <th>Cabin</th>\n",
       "      <th>Embarked</th>\n",
       "    </tr>\n",
       "  </thead>\n",
       "  <tbody>\n",
       "    <tr>\n",
       "      <th>0</th>\n",
       "      <td>1</td>\n",
       "      <td>0</td>\n",
       "      <td>3</td>\n",
       "      <td>Braund, Mr. Owen Harris</td>\n",
       "      <td>male</td>\n",
       "      <td>22.0</td>\n",
       "      <td>1</td>\n",
       "      <td>0</td>\n",
       "      <td>A/5 21171</td>\n",
       "      <td>7.2500</td>\n",
       "      <td>NaN</td>\n",
       "      <td>S</td>\n",
       "    </tr>\n",
       "    <tr>\n",
       "      <th>1</th>\n",
       "      <td>2</td>\n",
       "      <td>1</td>\n",
       "      <td>1</td>\n",
       "      <td>Cumings, Mrs. John Bradley (Florence Briggs Thayer)</td>\n",
       "      <td>female</td>\n",
       "      <td>38.0</td>\n",
       "      <td>1</td>\n",
       "      <td>0</td>\n",
       "      <td>PC 17599</td>\n",
       "      <td>71.2833</td>\n",
       "      <td>C85</td>\n",
       "      <td>C</td>\n",
       "    </tr>\n",
       "    <tr>\n",
       "      <th>2</th>\n",
       "      <td>3</td>\n",
       "      <td>1</td>\n",
       "      <td>3</td>\n",
       "      <td>Heikkinen, Miss. Laina</td>\n",
       "      <td>female</td>\n",
       "      <td>26.0</td>\n",
       "      <td>0</td>\n",
       "      <td>0</td>\n",
       "      <td>STON/O2. 3101282</td>\n",
       "      <td>7.9250</td>\n",
       "      <td>NaN</td>\n",
       "      <td>S</td>\n",
       "    </tr>\n",
       "    <tr>\n",
       "      <th>3</th>\n",
       "      <td>4</td>\n",
       "      <td>1</td>\n",
       "      <td>1</td>\n",
       "      <td>Futrelle, Mrs. Jacques Heath (Lily May Peel)</td>\n",
       "      <td>female</td>\n",
       "      <td>35.0</td>\n",
       "      <td>1</td>\n",
       "      <td>0</td>\n",
       "      <td>113803</td>\n",
       "      <td>53.1000</td>\n",
       "      <td>C123</td>\n",
       "      <td>S</td>\n",
       "    </tr>\n",
       "    <tr>\n",
       "      <th>4</th>\n",
       "      <td>5</td>\n",
       "      <td>0</td>\n",
       "      <td>3</td>\n",
       "      <td>Allen, Mr. William Henry</td>\n",
       "      <td>male</td>\n",
       "      <td>35.0</td>\n",
       "      <td>0</td>\n",
       "      <td>0</td>\n",
       "      <td>373450</td>\n",
       "      <td>8.0500</td>\n",
       "      <td>NaN</td>\n",
       "      <td>S</td>\n",
       "    </tr>\n",
       "  </tbody>\n",
       "</table>\n",
       "</div>"
      ],
      "text/plain": [
       "   PassengerId  Survived  Pclass  \\\n",
       "0            1         0       3   \n",
       "1            2         1       1   \n",
       "2            3         1       3   \n",
       "3            4         1       1   \n",
       "4            5         0       3   \n",
       "\n",
       "                                                  Name     Sex   Age  SibSp  \\\n",
       "0                              Braund, Mr. Owen Harris    male  22.0      1   \n",
       "1  Cumings, Mrs. John Bradley (Florence Briggs Thayer)  female  38.0      1   \n",
       "2                               Heikkinen, Miss. Laina  female  26.0      0   \n",
       "3         Futrelle, Mrs. Jacques Heath (Lily May Peel)  female  35.0      1   \n",
       "4                             Allen, Mr. William Henry    male  35.0      0   \n",
       "\n",
       "   Parch            Ticket     Fare Cabin Embarked  \n",
       "0      0         A/5 21171   7.2500   NaN        S  \n",
       "1      0          PC 17599  71.2833   C85        C  \n",
       "2      0  STON/O2. 3101282   7.9250   NaN        S  \n",
       "3      0            113803  53.1000  C123        S  \n",
       "4      0            373450   8.0500   NaN        S  "
      ]
     },
     "execution_count": 6,
     "metadata": {},
     "output_type": "execute_result"
    }
   ],
   "source": [
    "# First few rows\n",
    "data.head()"
   ]
  },
  {
   "cell_type": "code",
   "execution_count": 7,
   "id": "88ccf4ab",
   "metadata": {
    "scrolled": false
   },
   "outputs": [
    {
     "name": "stdout",
     "output_type": "stream",
     "text": [
      "<class 'pandas.core.frame.DataFrame'>\n",
      "RangeIndex: 891 entries, 0 to 890\n",
      "Data columns (total 12 columns):\n",
      " #   Column       Non-Null Count  Dtype  \n",
      "---  ------       --------------  -----  \n",
      " 0   PassengerId  891 non-null    int64  \n",
      " 1   Survived     891 non-null    int64  \n",
      " 2   Pclass       891 non-null    int64  \n",
      " 3   Name         891 non-null    object \n",
      " 4   Sex          891 non-null    object \n",
      " 5   Age          714 non-null    float64\n",
      " 6   SibSp        891 non-null    int64  \n",
      " 7   Parch        891 non-null    int64  \n",
      " 8   Ticket       891 non-null    object \n",
      " 9   Fare         891 non-null    float64\n",
      " 10  Cabin        204 non-null    object \n",
      " 11  Embarked     889 non-null    object \n",
      "dtypes: float64(2), int64(5), object(5)\n",
      "memory usage: 83.7+ KB\n"
     ]
    }
   ],
   "source": [
    "# Summary of dataset \n",
    "data.info()"
   ]
  },
  {
   "cell_type": "markdown",
   "id": "de8dd21d",
   "metadata": {},
   "source": [
    "##### FEATURE DESCRIPTION \n",
    "\n",
    "- There are 12 features and 891 observations in the dataset \n",
    "- 7 Numeric features \n",
    "- 4 nominal features\n",
    "- 1 ordinal feature \n",
    "\n",
    "| Feature         | Definition           | key  |\n",
    "| ------------- |:-------------:| -----:|\n",
    "| survival    | Survival | 0 = No, 1 = Yes |\n",
    "|pclass     | Ticket class      |   1 = 1st, 2 = 2nd, 3 = 3rd |\n",
    "| sex | Sex     |     |\n",
    "| Age | Age in years|    |\n",
    "| sibsp | # of siblings / spouses aboard the Titanic|   |  |\n",
    "| parch | # of parents / children aboard the Titanic\t|  |\n",
    "| ticket | Ticket number |    |\n",
    "| fare | Passenger fare |   |\n",
    "| cabin | Cabin number |   |\n",
    "| embarked | Port of Embarkation | C = Cherbourg, Q = Queenstown, S = Southampton|"
   ]
  },
  {
   "cell_type": "markdown",
   "id": "4d472e9f",
   "metadata": {},
   "source": [
    "### DATA PREP"
   ]
  },
  {
   "cell_type": "code",
   "execution_count": 8,
   "id": "7ba19419",
   "metadata": {},
   "outputs": [
    {
     "data": {
      "text/html": [
       "<div>\n",
       "<style scoped>\n",
       "    .dataframe tbody tr th:only-of-type {\n",
       "        vertical-align: middle;\n",
       "    }\n",
       "\n",
       "    .dataframe tbody tr th {\n",
       "        vertical-align: top;\n",
       "    }\n",
       "\n",
       "    .dataframe thead th {\n",
       "        text-align: right;\n",
       "    }\n",
       "</style>\n",
       "<table border=\"1\" class=\"dataframe\">\n",
       "  <thead>\n",
       "    <tr style=\"text-align: right;\">\n",
       "      <th></th>\n",
       "      <th>PassengerId</th>\n",
       "      <th>Survived</th>\n",
       "      <th>Pclass</th>\n",
       "      <th>Name</th>\n",
       "      <th>Sex</th>\n",
       "      <th>Age</th>\n",
       "      <th>SibSp</th>\n",
       "      <th>Parch</th>\n",
       "      <th>Ticket</th>\n",
       "      <th>Fare</th>\n",
       "      <th>Cabin</th>\n",
       "      <th>Embarked</th>\n",
       "    </tr>\n",
       "  </thead>\n",
       "  <tbody>\n",
       "  </tbody>\n",
       "</table>\n",
       "</div>"
      ],
      "text/plain": [
       "Empty DataFrame\n",
       "Columns: [PassengerId, Survived, Pclass, Name, Sex, Age, SibSp, Parch, Ticket, Fare, Cabin, Embarked]\n",
       "Index: []"
      ]
     },
     "execution_count": 8,
     "metadata": {},
     "output_type": "execute_result"
    }
   ],
   "source": [
    "# Checking for duplicate records \n",
    "data.loc[data.duplicated()] "
   ]
  },
  {
   "cell_type": "code",
   "execution_count": 9,
   "id": "4197ea2f",
   "metadata": {
    "scrolled": true
   },
   "outputs": [
    {
     "data": {
      "text/plain": [
       "0"
      ]
     },
     "execution_count": 9,
     "metadata": {},
     "output_type": "execute_result"
    }
   ],
   "source": [
    "(data.Name.value_counts() > 1).sum()"
   ]
  },
  {
   "cell_type": "markdown",
   "id": "19186ca4",
   "metadata": {},
   "source": [
    "Observations \n",
    "- There are no duplicate records within the dataset "
   ]
  },
  {
   "cell_type": "code",
   "execution_count": 10,
   "id": "cfbd7e8a",
   "metadata": {
    "scrolled": false
   },
   "outputs": [
    {
     "data": {
      "text/html": [
       "<div>\n",
       "<style scoped>\n",
       "    .dataframe tbody tr th:only-of-type {\n",
       "        vertical-align: middle;\n",
       "    }\n",
       "\n",
       "    .dataframe tbody tr th {\n",
       "        vertical-align: top;\n",
       "    }\n",
       "\n",
       "    .dataframe thead th {\n",
       "        text-align: right;\n",
       "    }\n",
       "</style>\n",
       "<table border=\"1\" class=\"dataframe\">\n",
       "  <thead>\n",
       "    <tr style=\"text-align: right;\">\n",
       "      <th></th>\n",
       "      <th>count_mv</th>\n",
       "      <th>perc_mv</th>\n",
       "    </tr>\n",
       "    <tr>\n",
       "      <th>features</th>\n",
       "      <th></th>\n",
       "      <th></th>\n",
       "    </tr>\n",
       "  </thead>\n",
       "  <tbody>\n",
       "    <tr>\n",
       "      <th>PassengerId</th>\n",
       "      <td>0</td>\n",
       "      <td>0.00</td>\n",
       "    </tr>\n",
       "    <tr>\n",
       "      <th>Survived</th>\n",
       "      <td>0</td>\n",
       "      <td>0.00</td>\n",
       "    </tr>\n",
       "    <tr>\n",
       "      <th>Pclass</th>\n",
       "      <td>0</td>\n",
       "      <td>0.00</td>\n",
       "    </tr>\n",
       "    <tr>\n",
       "      <th>Name</th>\n",
       "      <td>0</td>\n",
       "      <td>0.00</td>\n",
       "    </tr>\n",
       "    <tr>\n",
       "      <th>Sex</th>\n",
       "      <td>0</td>\n",
       "      <td>0.00</td>\n",
       "    </tr>\n",
       "    <tr>\n",
       "      <th>Age</th>\n",
       "      <td>177</td>\n",
       "      <td>19.87</td>\n",
       "    </tr>\n",
       "    <tr>\n",
       "      <th>SibSp</th>\n",
       "      <td>0</td>\n",
       "      <td>0.00</td>\n",
       "    </tr>\n",
       "    <tr>\n",
       "      <th>Parch</th>\n",
       "      <td>0</td>\n",
       "      <td>0.00</td>\n",
       "    </tr>\n",
       "    <tr>\n",
       "      <th>Ticket</th>\n",
       "      <td>0</td>\n",
       "      <td>0.00</td>\n",
       "    </tr>\n",
       "    <tr>\n",
       "      <th>Fare</th>\n",
       "      <td>0</td>\n",
       "      <td>0.00</td>\n",
       "    </tr>\n",
       "    <tr>\n",
       "      <th>Cabin</th>\n",
       "      <td>687</td>\n",
       "      <td>77.10</td>\n",
       "    </tr>\n",
       "    <tr>\n",
       "      <th>Embarked</th>\n",
       "      <td>2</td>\n",
       "      <td>0.22</td>\n",
       "    </tr>\n",
       "  </tbody>\n",
       "</table>\n",
       "</div>"
      ],
      "text/plain": [
       "             count_mv  perc_mv\n",
       "features                      \n",
       "PassengerId         0     0.00\n",
       "Survived            0     0.00\n",
       "Pclass              0     0.00\n",
       "Name                0     0.00\n",
       "Sex                 0     0.00\n",
       "Age               177    19.87\n",
       "SibSp               0     0.00\n",
       "Parch               0     0.00\n",
       "Ticket              0     0.00\n",
       "Fare                0     0.00\n",
       "Cabin             687    77.10\n",
       "Embarked            2     0.22"
      ]
     },
     "execution_count": 10,
     "metadata": {},
     "output_type": "execute_result"
    }
   ],
   "source": [
    "# Checking for missing values \n",
    "pd.DataFrame(zip(data.isna().sum().index, data.isna().sum().values,\n",
    "                 round(data.isna().mean() * 100, 2).values),\n",
    "             columns = ['features', 'count_mv', 'perc_mv']).set_index('features')"
   ]
  },
  {
   "cell_type": "code",
   "execution_count": 11,
   "id": "386027a9",
   "metadata": {
    "scrolled": false
   },
   "outputs": [
    {
     "data": {
      "image/png": "[encoded data removed]",
      "text/plain": [
       "<Figure size 1000x800 with 4 Axes>"
      ]
     },
     "metadata": {},
     "output_type": "display_data"
    }
   ],
   "source": [
    "fig, (ax1, ax2) = plt.subplots(2)\n",
    "fig.tight_layout(pad=5)\n",
    "msno.matrix(data,  ax = ax1, fontsize = 10, sparkline = False)\n",
    "msno.bar(data, ax = ax2, fontsize = 10)\n",
    "ax1.set_title('Missing values plot')\n",
    "# ax1.tick_params(axis='both', labelsize=10)\n",
    "# ax2.tick_params(axis='both', labelsize=10)\n",
    "plt.show()"
   ]
  },
  {
   "cell_type": "markdown",
   "id": "22629e6c",
   "metadata": {},
   "source": [
    "Observations \n",
    "- The Age, Cabin and Embarked features have missing data\n",
    "- The cabin feature has a high percentage(77%) of missing data (Feature will be dropped)"
   ]
  },
  {
   "cell_type": "code",
   "execution_count": null,
   "id": "d7767014",
   "metadata": {},
   "outputs": [],
   "source": []
  },
  {
   "cell_type": "markdown",
   "id": "8bbf1705",
   "metadata": {},
   "source": [
    "### EDA "
   ]
  },
  {
   "cell_type": "markdown",
   "id": "1bf14241",
   "metadata": {},
   "source": [
    "#### Quantitative features "
   ]
  },
  {
   "cell_type": "markdown",
   "id": "705f7476",
   "metadata": {},
   "source": [
    "##### UNIVARIATE ANALYSIS"
   ]
  },
  {
   "cell_type": "code",
   "execution_count": 12,
   "id": "c786ce15",
   "metadata": {},
   "outputs": [],
   "source": [
    "# Continuous features\n",
    "cont_feat = data.dtypes[data.dtypes == 'float'].index \n",
    "\n",
    "# Discrete features \n",
    "disc_feat = data.dtypes[data.dtypes == 'int'].index[2:] # Excluding \"PassengerId\" and Target feature \"Survived\"\n"
   ]
  },
  {
   "cell_type": "code",
   "execution_count": 13,
   "id": "3ae90d55",
   "metadata": {
    "scrolled": false
   },
   "outputs": [
    {
     "data": {
      "text/plain": [
       "Index(['Age', 'Fare'], dtype='object')"
      ]
     },
     "execution_count": 13,
     "metadata": {},
     "output_type": "execute_result"
    }
   ],
   "source": [
    "cont_feat"
   ]
  },
  {
   "cell_type": "code",
   "execution_count": 14,
   "id": "ff95f8bf",
   "metadata": {},
   "outputs": [
    {
     "data": {
      "text/plain": [
       "Index(['Pclass', 'SibSp', 'Parch'], dtype='object')"
      ]
     },
     "execution_count": 14,
     "metadata": {},
     "output_type": "execute_result"
    }
   ],
   "source": [
    "disc_feat"
   ]
  },
  {
   "cell_type": "code",
   "execution_count": 15,
   "id": "f88e0ea3",
   "metadata": {
    "scrolled": false
   },
   "outputs": [
    {
     "data": {
      "text/html": [
       "<div>\n",
       "<style scoped>\n",
       "    .dataframe tbody tr th:only-of-type {\n",
       "        vertical-align: middle;\n",
       "    }\n",
       "\n",
       "    .dataframe tbody tr th {\n",
       "        vertical-align: top;\n",
       "    }\n",
       "\n",
       "    .dataframe thead th {\n",
       "        text-align: right;\n",
       "    }\n",
       "</style>\n",
       "<table border=\"1\" class=\"dataframe\">\n",
       "  <thead>\n",
       "    <tr style=\"text-align: right;\">\n",
       "      <th></th>\n",
       "      <th>Age</th>\n",
       "      <th>Fare</th>\n",
       "    </tr>\n",
       "  </thead>\n",
       "  <tbody>\n",
       "    <tr>\n",
       "      <th>count</th>\n",
       "      <td>714.000000</td>\n",
       "      <td>891.000000</td>\n",
       "    </tr>\n",
       "    <tr>\n",
       "      <th>mean</th>\n",
       "      <td>29.699118</td>\n",
       "      <td>32.204208</td>\n",
       "    </tr>\n",
       "    <tr>\n",
       "      <th>std</th>\n",
       "      <td>14.526497</td>\n",
       "      <td>49.693429</td>\n",
       "    </tr>\n",
       "    <tr>\n",
       "      <th>min</th>\n",
       "      <td>0.420000</td>\n",
       "      <td>0.000000</td>\n",
       "    </tr>\n",
       "    <tr>\n",
       "      <th>25%</th>\n",
       "      <td>20.125000</td>\n",
       "      <td>7.910400</td>\n",
       "    </tr>\n",
       "    <tr>\n",
       "      <th>50%</th>\n",
       "      <td>28.000000</td>\n",
       "      <td>14.454200</td>\n",
       "    </tr>\n",
       "    <tr>\n",
       "      <th>75%</th>\n",
       "      <td>38.000000</td>\n",
       "      <td>31.000000</td>\n",
       "    </tr>\n",
       "    <tr>\n",
       "      <th>max</th>\n",
       "      <td>80.000000</td>\n",
       "      <td>512.329200</td>\n",
       "    </tr>\n",
       "  </tbody>\n",
       "</table>\n",
       "</div>"
      ],
      "text/plain": [
       "              Age        Fare\n",
       "count  714.000000  891.000000\n",
       "mean    29.699118   32.204208\n",
       "std     14.526497   49.693429\n",
       "min      0.420000    0.000000\n",
       "25%     20.125000    7.910400\n",
       "50%     28.000000   14.454200\n",
       "75%     38.000000   31.000000\n",
       "max     80.000000  512.329200"
      ]
     },
     "execution_count": 15,
     "metadata": {},
     "output_type": "execute_result"
    },
    {
     "data": {
      "image/png": "[encoded data removed]",
      "text/plain": [
       "<Figure size 1000x800 with 2 Axes>"
      ]
     },
     "metadata": {},
     "output_type": "display_data"
    }
   ],
   "source": [
    "# Distribution of continuos features \n",
    "fig, ax = plt.subplots(1,2)\n",
    "ax[0].hist(data = data, x = 'Age', bins = 30)\n",
    "ax[0].set_title('Age')\n",
    "ax[1].hist(data = data, x = 'Fare', bins = 30)\n",
    "ax[1].set_title('Fare')\n",
    "fig.suptitle('Distribution of continuos features', fontsize=16)\n",
    "\n",
    "data[['Age', 'Fare']].describe()"
   ]
  },
  {
   "cell_type": "markdown",
   "id": "d391a26f",
   "metadata": {},
   "source": [
    "Observations \n",
    "- The Age feature is slighly right skewwed(Possible presence of outlier values). A max value of 80 eliminates the possibility of outliers as this is a realistic age of an individual.\n",
    "\n",
    "- Most passengers are between the age of 20-30\n",
    "\n",
    "- The Fare feature is right skewwed(Possible presence of outlier values). Has a max value of 512.3292 (Needs more investigation)\n"
   ]
  },
  {
   "cell_type": "code",
   "execution_count": 16,
   "id": "465ed4d9",
   "metadata": {},
   "outputs": [
    {
     "data": {
      "text/html": [
       "<div>\n",
       "<style scoped>\n",
       "    .dataframe tbody tr th:only-of-type {\n",
       "        vertical-align: middle;\n",
       "    }\n",
       "\n",
       "    .dataframe tbody tr th {\n",
       "        vertical-align: top;\n",
       "    }\n",
       "\n",
       "    .dataframe thead th {\n",
       "        text-align: right;\n",
       "    }\n",
       "</style>\n",
       "<table border=\"1\" class=\"dataframe\">\n",
       "  <thead>\n",
       "    <tr style=\"text-align: right;\">\n",
       "      <th></th>\n",
       "      <th>PassengerId</th>\n",
       "      <th>Survived</th>\n",
       "      <th>Pclass</th>\n",
       "      <th>Name</th>\n",
       "      <th>Sex</th>\n",
       "      <th>Age</th>\n",
       "      <th>SibSp</th>\n",
       "      <th>Parch</th>\n",
       "      <th>Ticket</th>\n",
       "      <th>Fare</th>\n",
       "      <th>Cabin</th>\n",
       "      <th>Embarked</th>\n",
       "    </tr>\n",
       "  </thead>\n",
       "  <tbody>\n",
       "    <tr>\n",
       "      <th>258</th>\n",
       "      <td>259</td>\n",
       "      <td>1</td>\n",
       "      <td>1</td>\n",
       "      <td>Ward, Miss. Anna</td>\n",
       "      <td>female</td>\n",
       "      <td>35.0</td>\n",
       "      <td>0</td>\n",
       "      <td>0</td>\n",
       "      <td>PC 17755</td>\n",
       "      <td>512.3292</td>\n",
       "      <td>NaN</td>\n",
       "      <td>C</td>\n",
       "    </tr>\n",
       "    <tr>\n",
       "      <th>679</th>\n",
       "      <td>680</td>\n",
       "      <td>1</td>\n",
       "      <td>1</td>\n",
       "      <td>Cardeza, Mr. Thomas Drake Martinez</td>\n",
       "      <td>male</td>\n",
       "      <td>36.0</td>\n",
       "      <td>0</td>\n",
       "      <td>1</td>\n",
       "      <td>PC 17755</td>\n",
       "      <td>512.3292</td>\n",
       "      <td>B51 B53 B55</td>\n",
       "      <td>C</td>\n",
       "    </tr>\n",
       "    <tr>\n",
       "      <th>737</th>\n",
       "      <td>738</td>\n",
       "      <td>1</td>\n",
       "      <td>1</td>\n",
       "      <td>Lesurer, Mr. Gustave J</td>\n",
       "      <td>male</td>\n",
       "      <td>35.0</td>\n",
       "      <td>0</td>\n",
       "      <td>0</td>\n",
       "      <td>PC 17755</td>\n",
       "      <td>512.3292</td>\n",
       "      <td>B101</td>\n",
       "      <td>C</td>\n",
       "    </tr>\n",
       "  </tbody>\n",
       "</table>\n",
       "</div>"
      ],
      "text/plain": [
       "     PassengerId  Survived  Pclass                                Name  \\\n",
       "258          259         1       1                    Ward, Miss. Anna   \n",
       "679          680         1       1  Cardeza, Mr. Thomas Drake Martinez   \n",
       "737          738         1       1              Lesurer, Mr. Gustave J   \n",
       "\n",
       "        Sex   Age  SibSp  Parch    Ticket      Fare        Cabin Embarked  \n",
       "258  female  35.0      0      0  PC 17755  512.3292          NaN        C  \n",
       "679    male  36.0      0      1  PC 17755  512.3292  B51 B53 B55        C  \n",
       "737    male  35.0      0      0  PC 17755  512.3292         B101        C  "
      ]
     },
     "execution_count": 16,
     "metadata": {},
     "output_type": "execute_result"
    }
   ],
   "source": [
    "# Investigating the Fare feature \n",
    "data[data['Fare'] == 512.3292]"
   ]
  },
  {
   "cell_type": "markdown",
   "id": "79d92ca1",
   "metadata": {},
   "source": [
    "Observations \n",
    "- More than one passenger paid this amount \n",
    "- All passengers who paid this amount are first class passengers\n",
    "- All passengers who paid this amount boarded the ship from Cherbourg \n",
    "\n",
    "With these finding the possibility of this value being an outlier is low \n"
   ]
  },
  {
   "cell_type": "code",
   "execution_count": 17,
   "id": "1d0829dd",
   "metadata": {},
   "outputs": [],
   "source": [
    "# Relationship between Continuos features and Target feature\n",
    "def age_groups(col):\n",
    "#     if pd.notna(data[col]):\n",
    "    if col <= 17:\n",
    "        return 'child'\n",
    "\n",
    "    elif col == 18 or col <= 30:\n",
    "        return 'young_adult'\n",
    "\n",
    "    elif col == 31 or col <= 45:\n",
    "        return 'middle_aged_adult'\n",
    "\n",
    "    elif col >= 45:\n",
    "        return 'old_aged_adult'\n",
    "    else:\n",
    "        return col"
   ]
  },
  {
   "cell_type": "code",
   "execution_count": 18,
   "id": "51bff948",
   "metadata": {
    "scrolled": true
   },
   "outputs": [],
   "source": [
    "data_copy = data.copy()\n",
    "data_copy['Age_group'] = data_copy['Age'].apply(age_groups)"
   ]
  },
  {
   "cell_type": "code",
   "execution_count": 19,
   "id": "c121e7ad",
   "metadata": {},
   "outputs": [
    {
     "data": {
      "text/plain": [
       "young_adult          296\n",
       "middle_aged_adult    202\n",
       "child                113\n",
       "old_aged_adult       103\n",
       "Name: Age_group, dtype: int64"
      ]
     },
     "execution_count": 19,
     "metadata": {},
     "output_type": "execute_result"
    }
   ],
   "source": [
    "data_copy['Age_group'].value_counts()"
   ]
  },
  {
   "cell_type": "code",
   "execution_count": 20,
   "id": "a64270c2",
   "metadata": {
    "scrolled": false
   },
   "outputs": [
    {
     "data": {
      "text/plain": [
       "<AxesSubplot: xlabel='Age_group', ylabel='count'>"
      ]
     },
     "execution_count": 20,
     "metadata": {},
     "output_type": "execute_result"
    },
    {
     "data": {
      "image/png": "[encoded data removed]",
      "text/plain": [
       "<Figure size 1000x800 with 1 Axes>"
      ]
     },
     "metadata": {},
     "output_type": "display_data"
    }
   ],
   "source": [
    "sns.countplot(data_copy, x = 'Age_group', hue = 'Survived')"
   ]
  },
  {
   "cell_type": "code",
   "execution_count": 21,
   "id": "546303e5",
   "metadata": {},
   "outputs": [],
   "source": [
    "def fare_groups(col):\n",
    "#     if pd.notna(data[col]):\n",
    "    if col == 0:\n",
    "        return 'free'\n",
    "\n",
    "    elif col == 1 or col <= 100:\n",
    "        return 'cheap'\n",
    "\n",
    "    elif col == 101 or col <= 250:\n",
    "        return 'average'\n",
    "\n",
    "    elif col >= 251:\n",
    "        return 'expensive'\n",
    "    else:\n",
    "        return col"
   ]
  },
  {
   "cell_type": "code",
   "execution_count": 22,
   "id": "c602c7b7",
   "metadata": {},
   "outputs": [],
   "source": [
    "data_copy['Fare_group'] = data_copy['Fare'].apply(fare_groups)"
   ]
  },
  {
   "cell_type": "code",
   "execution_count": 23,
   "id": "7a294fdf",
   "metadata": {
    "scrolled": false
   },
   "outputs": [
    {
     "data": {
      "text/plain": [
       "<AxesSubplot: xlabel='Fare_group', ylabel='count'>"
      ]
     },
     "execution_count": 23,
     "metadata": {},
     "output_type": "execute_result"
    },
    {
     "data": {
      "image/png": "[encoded data removed]",
      "text/plain": [
       "<Figure size 1000x800 with 1 Axes>"
      ]
     },
     "metadata": {},
     "output_type": "display_data"
    }
   ],
   "source": [
    "sns.countplot(data_copy, x = 'Fare_group', hue = 'Survived')"
   ]
  },
  {
   "cell_type": "markdown",
   "id": "9eee7ad9",
   "metadata": {},
   "source": [
    "Observations\n",
    "- There were more young adults on board the ship than any other age group \n",
    "- More children survived than died, unlike other age groups *\n",
    "- More Passengers who paid average and expensive fares survived than died, unlike free and cheap fare groups \n"
   ]
  },
  {
   "cell_type": "code",
   "execution_count": 24,
   "id": "8a7cddb2",
   "metadata": {
    "scrolled": false
   },
   "outputs": [
    {
     "data": {
      "image/png": "[encoded data removed]",
      "text/plain": [
       "<Figure size 1000x800 with 1 Axes>"
      ]
     },
     "metadata": {},
     "output_type": "display_data"
    },
    {
     "data": {
      "image/png": "[encoded data removed]",
      "text/plain": [
       "<Figure size 1000x800 with 1 Axes>"
      ]
     },
     "metadata": {},
     "output_type": "display_data"
    },
    {
     "data": {
      "image/png": "[encoded data removed]",
      "text/plain": [
       "<Figure size 1000x800 with 1 Axes>"
      ]
     },
     "metadata": {},
     "output_type": "display_data"
    }
   ],
   "source": [
    "# Relationship between Discrete features and Target feature \n",
    "for feat in disc_feat:\n",
    "    sns.countplot(data_copy, hue = 'Survived', x = feat).set(title = f\"{feat} feature\")\n",
    "    plt.show()\n",
    "    "
   ]
  },
  {
   "cell_type": "markdown",
   "id": "591e9341",
   "metadata": {},
   "source": [
    "Observations \n",
    "- Most  passengers were in 3rd class \n",
    "- More passengers in 1st class survived than died \n",
    "- Most passengers were travelling alone (without siblings/spouses/parents/children)\n",
    "- More Passengers traveling with a siblings/spouses/parents/child survived than died "
   ]
  },
  {
   "cell_type": "code",
   "execution_count": null,
   "id": "619cd4ce",
   "metadata": {},
   "outputs": [],
   "source": []
  },
  {
   "cell_type": "markdown",
   "id": "8d24e39e",
   "metadata": {},
   "source": [
    "### Categorical features "
   ]
  },
  {
   "cell_type": "code",
   "execution_count": 25,
   "id": "a3035b02",
   "metadata": {},
   "outputs": [],
   "source": [
    "cat_feat = [col for col in data_copy.columns if data_copy[col].dtype == 'O' and col not in ['Name', 'Ticket', 'Cabin']]"
   ]
  },
  {
   "cell_type": "code",
   "execution_count": 26,
   "id": "6c516d99",
   "metadata": {},
   "outputs": [
    {
     "data": {
      "text/plain": [
       "['Sex', 'Embarked', 'Age_group', 'Fare_group']"
      ]
     },
     "execution_count": 26,
     "metadata": {},
     "output_type": "execute_result"
    }
   ],
   "source": [
    "cat_feat "
   ]
  },
  {
   "cell_type": "code",
   "execution_count": 27,
   "id": "cf5b2327",
   "metadata": {
    "scrolled": false
   },
   "outputs": [
    {
     "data": {
      "image/png": "[encoded data removed]",
      "text/plain": [
       "<Figure size 1000x800 with 1 Axes>"
      ]
     },
     "metadata": {},
     "output_type": "display_data"
    },
    {
     "data": {
      "image/png": "[encoded data removed]",
      "text/plain": [
       "<Figure size 1000x800 with 1 Axes>"
      ]
     },
     "metadata": {},
     "output_type": "display_data"
    },
    {
     "data": {
      "image/png": "[encoded data removed]",
      "text/plain": [
       "<Figure size 1000x800 with 1 Axes>"
      ]
     },
     "metadata": {},
     "output_type": "display_data"
    },
    {
     "data": {
      "image/png": "[encoded data removed]",
      "text/plain": [
       "<Figure size 1000x800 with 1 Axes>"
      ]
     },
     "metadata": {},
     "output_type": "display_data"
    }
   ],
   "source": [
    "for feat in cat_feat:\n",
    "    sns.countplot(data_copy, hue = 'Survived', x = feat).set(title = f\"{feat} feature\")\n",
    "    plt.show()\n",
    "    "
   ]
  },
  {
   "cell_type": "markdown",
   "id": "c6f94361",
   "metadata": {},
   "source": [
    "Observations \n",
    "- More males died \n",
    "- More passenger who embarked from Cherbourg survived than died "
   ]
  },
  {
   "cell_type": "markdown",
   "id": "1c204ebd",
   "metadata": {},
   "source": [
    "##### HYPOTHESIS \n",
    "Likely to survive \n",
    "- Children \n",
    "- Passengers who paid at least 101 in fare \n",
    "- Passengers traveling with one sibling/spouse/parent/child \n",
    "- Females \n",
    "- Passengers who embarked from Cherbourg"
   ]
  },
  {
   "cell_type": "markdown",
   "id": "8bc2f343",
   "metadata": {},
   "source": [
    "### FEATURE ENGINEERING AND SELECTION"
   ]
  },
  {
   "cell_type": "markdown",
   "id": "ab499e7b",
   "metadata": {},
   "source": [
    "##### FEATURE TRANSFORMATION  PIPLINE\n",
    "\n",
    "- impute embarked feature \n",
    "- impute age feature \n",
    "- create age_group feature\n",
    "- create fare_group feature\n",
    "- create a feature that combines SibSp and Parch\n",
    "- encode categorical features"
   ]
  },
  {
   "cell_type": "code",
   "execution_count": 28,
   "id": "35cafb23",
   "metadata": {
    "scrolled": false
   },
   "outputs": [
    {
     "data": {
      "text/html": [
       "<div>\n",
       "<style scoped>\n",
       "    .dataframe tbody tr th:only-of-type {\n",
       "        vertical-align: middle;\n",
       "    }\n",
       "\n",
       "    .dataframe tbody tr th {\n",
       "        vertical-align: top;\n",
       "    }\n",
       "\n",
       "    .dataframe thead th {\n",
       "        text-align: right;\n",
       "    }\n",
       "</style>\n",
       "<table border=\"1\" class=\"dataframe\">\n",
       "  <thead>\n",
       "    <tr style=\"text-align: right;\">\n",
       "      <th></th>\n",
       "      <th>PassengerId</th>\n",
       "      <th>Survived</th>\n",
       "      <th>Pclass</th>\n",
       "      <th>Name</th>\n",
       "      <th>Sex</th>\n",
       "      <th>Age</th>\n",
       "      <th>SibSp</th>\n",
       "      <th>Parch</th>\n",
       "      <th>Ticket</th>\n",
       "      <th>Fare</th>\n",
       "      <th>Cabin</th>\n",
       "      <th>Embarked</th>\n",
       "      <th>Age_group</th>\n",
       "      <th>Fare_group</th>\n",
       "    </tr>\n",
       "  </thead>\n",
       "  <tbody>\n",
       "    <tr>\n",
       "      <th>61</th>\n",
       "      <td>62</td>\n",
       "      <td>1</td>\n",
       "      <td>1</td>\n",
       "      <td>Icard, Miss. Amelie</td>\n",
       "      <td>female</td>\n",
       "      <td>38.0</td>\n",
       "      <td>0</td>\n",
       "      <td>0</td>\n",
       "      <td>113572</td>\n",
       "      <td>80.0</td>\n",
       "      <td>B28</td>\n",
       "      <td>NaN</td>\n",
       "      <td>middle_aged_adult</td>\n",
       "      <td>cheap</td>\n",
       "    </tr>\n",
       "    <tr>\n",
       "      <th>829</th>\n",
       "      <td>830</td>\n",
       "      <td>1</td>\n",
       "      <td>1</td>\n",
       "      <td>Stone, Mrs. George Nelson (Martha Evelyn)</td>\n",
       "      <td>female</td>\n",
       "      <td>62.0</td>\n",
       "      <td>0</td>\n",
       "      <td>0</td>\n",
       "      <td>113572</td>\n",
       "      <td>80.0</td>\n",
       "      <td>B28</td>\n",
       "      <td>NaN</td>\n",
       "      <td>old_aged_adult</td>\n",
       "      <td>cheap</td>\n",
       "    </tr>\n",
       "  </tbody>\n",
       "</table>\n",
       "</div>"
      ],
      "text/plain": [
       "     PassengerId  Survived  Pclass                                       Name  \\\n",
       "61            62         1       1                        Icard, Miss. Amelie   \n",
       "829          830         1       1  Stone, Mrs. George Nelson (Martha Evelyn)   \n",
       "\n",
       "        Sex   Age  SibSp  Parch  Ticket  Fare Cabin Embarked  \\\n",
       "61   female  38.0      0      0  113572  80.0   B28      NaN   \n",
       "829  female  62.0      0      0  113572  80.0   B28      NaN   \n",
       "\n",
       "             Age_group Fare_group  \n",
       "61   middle_aged_adult      cheap  \n",
       "829     old_aged_adult      cheap  "
      ]
     },
     "execution_count": 28,
     "metadata": {},
     "output_type": "execute_result"
    }
   ],
   "source": [
    "# Embarked\n",
    "data_copy[data_copy['Embarked'].isna()]"
   ]
  },
  {
   "cell_type": "code",
   "execution_count": 29,
   "id": "4713703c",
   "metadata": {},
   "outputs": [
    {
     "data": {
      "text/plain": [
       "S    644\n",
       "C    168\n",
       "Q     77\n",
       "Name: Embarked, dtype: int64"
      ]
     },
     "execution_count": 29,
     "metadata": {},
     "output_type": "execute_result"
    }
   ],
   "source": [
    "# Embarked \n",
    "data_copy['Embarked'].value_counts() "
   ]
  },
  {
   "cell_type": "code",
   "execution_count": 30,
   "id": "21f933e4",
   "metadata": {
    "scrolled": true
   },
   "outputs": [
    {
     "data": {
      "text/plain": [
       "'S'"
      ]
     },
     "execution_count": 30,
     "metadata": {},
     "output_type": "execute_result"
    }
   ],
   "source": [
    "data_copy.query(\"Pclass == 1 & Sex == 'female' & \\\n",
    "           Fare_group == 'cheap' & Survived == 1\")['Embarked'].value_counts().index[0]"
   ]
  },
  {
   "cell_type": "markdown",
   "id": "00a38017",
   "metadata": {},
   "source": [
    "- Most people emarked from Southampton. Missing data in this feature will be filled with this value  "
   ]
  },
  {
   "cell_type": "code",
   "execution_count": 31,
   "id": "41b7e959",
   "metadata": {
    "scrolled": true
   },
   "outputs": [
    {
     "data": {
      "text/plain": [
       "Sex     Pclass\n",
       "female  1         34.6\n",
       "        2         28.7\n",
       "        3         21.8\n",
       "male    1         41.3\n",
       "        2         30.7\n",
       "        3         26.5\n",
       "Name: Age, dtype: float64"
      ]
     },
     "execution_count": 31,
     "metadata": {},
     "output_type": "execute_result"
    }
   ],
   "source": [
    "# AGE \n",
    "data_copy.groupby(['Sex', 'Pclass'])['Age'].mean().round(1)"
   ]
  },
  {
   "cell_type": "code",
   "execution_count": 32,
   "id": "30a786c2",
   "metadata": {},
   "outputs": [],
   "source": [
    "from sklearn.base import BaseEstimator, TransformerMixin\n",
    "from sklearn.pipeline import Pipeline"
   ]
  },
  {
   "cell_type": "code",
   "execution_count": 33,
   "id": "9bf705ba",
   "metadata": {},
   "outputs": [],
   "source": [
    "class transformer(BaseEstimator, TransformerMixin):\n",
    "    \n",
    "    def fit(self, X, y = None):\n",
    "        return self\n",
    "    \n",
    "    def impute_age(self, cols):\n",
    "        age = cols[0]\n",
    "        sex = cols[1]\n",
    "        pclass = cols[2]\n",
    "        if pd.isna(age):\n",
    "            if sex == 'female' and pclass == 1:\n",
    "                return 34.6\n",
    "            elif sex == 'female' and pclass == 2:\n",
    "                return 28.7\n",
    "\n",
    "            elif sex == 'female' and pclass == 3:\n",
    "                return 28.7\n",
    "\n",
    "            elif sex == 'male' and pclass == 1:\n",
    "                return 41.3\n",
    "\n",
    "            elif sex == 'male' and pclass == 2:\n",
    "                return 30.7\n",
    "\n",
    "            elif sex == 'male' and pclass == 3:\n",
    "                return 26.5\n",
    "\n",
    "        else:\n",
    "            return age\n",
    "        \n",
    "    def age_groups(self, col):\n",
    "        if col <= 17:\n",
    "            return 'child'\n",
    "\n",
    "        elif col == 18 or col <= 30:\n",
    "            return 'young_adult'\n",
    "\n",
    "        elif col == 31 or col <= 45:\n",
    "            return 'middle_aged_adult'\n",
    "\n",
    "        elif col >= 45:\n",
    "            return 'old_aged_adult'\n",
    "        else:\n",
    "            return col    \n",
    "        \n",
    "    def fare_groups(self, col):\n",
    "        if col == 0:\n",
    "            return 'free'      \n",
    "        elif col == 1 or col <= 100:\n",
    "            return 'cheap'      \n",
    "        elif col == 101 or col <= 250:\n",
    "            return 'average'      \n",
    "        elif col >= 251:\n",
    "            return 'expensive'\n",
    "        else:\n",
    "            return col\n",
    "        \n",
    "    def reduce(self, cols):\n",
    "        sibsp = cols[0]\n",
    "        parch = cols[1]\n",
    "        return sibsp + parch    \n",
    "    \n",
    "    def transform(self, X, y = None):\n",
    "        X_copy = X.copy() \n",
    "        X_copy['Accompanied'] =  X_copy[['SibSp', 'Parch']].apply(self.reduce, axis = 1)\n",
    "        X_copy['Age'] =  X_copy[['Age', 'Sex', 'Pclass']].apply(self.impute_age, axis = 1)\n",
    "        X_copy['Age_group'] = X_copy['Age'].apply(self.age_groups)\n",
    "        X_copy['Embarked'].fillna(data.Embarked.value_counts().index[0])\n",
    "        X_copy['Fare_group'] = X_copy['Fare'].apply(self.fare_groups)\n",
    "        \n",
    "        return X_copy"
   ]
  },
  {
   "cell_type": "code",
   "execution_count": 34,
   "id": "b0a197a0",
   "metadata": {
    "scrolled": false
   },
   "outputs": [],
   "source": [
    "transform = Pipeline([('transform', transformer())])"
   ]
  },
  {
   "cell_type": "markdown",
   "id": "64234212",
   "metadata": {},
   "source": [
    "##### APPLYING TRANSFORMATION ON TRAIN AND TEST DATA"
   ]
  },
  {
   "cell_type": "code",
   "execution_count": 35,
   "id": "37ff6672",
   "metadata": {},
   "outputs": [],
   "source": [
    "data_transformed = transform.transform(data_copy.copy())[['Survived', 'Pclass', 'Sex', 'Accompanied',\n",
    "                 'Embarked', 'Age_group', 'Fare_group']]"
   ]
  },
  {
   "cell_type": "code",
   "execution_count": 36,
   "id": "23ce2186",
   "metadata": {
    "scrolled": false
   },
   "outputs": [
    {
     "data": {
      "text/html": [
       "<div>\n",
       "<style scoped>\n",
       "    .dataframe tbody tr th:only-of-type {\n",
       "        vertical-align: middle;\n",
       "    }\n",
       "\n",
       "    .dataframe tbody tr th {\n",
       "        vertical-align: top;\n",
       "    }\n",
       "\n",
       "    .dataframe thead th {\n",
       "        text-align: right;\n",
       "    }\n",
       "</style>\n",
       "<table border=\"1\" class=\"dataframe\">\n",
       "  <thead>\n",
       "    <tr style=\"text-align: right;\">\n",
       "      <th></th>\n",
       "      <th>Survived</th>\n",
       "      <th>Pclass</th>\n",
       "      <th>Sex</th>\n",
       "      <th>Accompanied</th>\n",
       "      <th>Embarked</th>\n",
       "      <th>Age_group</th>\n",
       "      <th>Fare_group</th>\n",
       "    </tr>\n",
       "  </thead>\n",
       "  <tbody>\n",
       "    <tr>\n",
       "      <th>0</th>\n",
       "      <td>0</td>\n",
       "      <td>3</td>\n",
       "      <td>male</td>\n",
       "      <td>1</td>\n",
       "      <td>S</td>\n",
       "      <td>young_adult</td>\n",
       "      <td>cheap</td>\n",
       "    </tr>\n",
       "    <tr>\n",
       "      <th>1</th>\n",
       "      <td>1</td>\n",
       "      <td>1</td>\n",
       "      <td>female</td>\n",
       "      <td>1</td>\n",
       "      <td>C</td>\n",
       "      <td>middle_aged_adult</td>\n",
       "      <td>cheap</td>\n",
       "    </tr>\n",
       "    <tr>\n",
       "      <th>2</th>\n",
       "      <td>1</td>\n",
       "      <td>3</td>\n",
       "      <td>female</td>\n",
       "      <td>0</td>\n",
       "      <td>S</td>\n",
       "      <td>young_adult</td>\n",
       "      <td>cheap</td>\n",
       "    </tr>\n",
       "    <tr>\n",
       "      <th>3</th>\n",
       "      <td>1</td>\n",
       "      <td>1</td>\n",
       "      <td>female</td>\n",
       "      <td>1</td>\n",
       "      <td>S</td>\n",
       "      <td>middle_aged_adult</td>\n",
       "      <td>cheap</td>\n",
       "    </tr>\n",
       "    <tr>\n",
       "      <th>4</th>\n",
       "      <td>0</td>\n",
       "      <td>3</td>\n",
       "      <td>male</td>\n",
       "      <td>0</td>\n",
       "      <td>S</td>\n",
       "      <td>middle_aged_adult</td>\n",
       "      <td>cheap</td>\n",
       "    </tr>\n",
       "    <tr>\n",
       "      <th>...</th>\n",
       "      <td>...</td>\n",
       "      <td>...</td>\n",
       "      <td>...</td>\n",
       "      <td>...</td>\n",
       "      <td>...</td>\n",
       "      <td>...</td>\n",
       "      <td>...</td>\n",
       "    </tr>\n",
       "    <tr>\n",
       "      <th>886</th>\n",
       "      <td>0</td>\n",
       "      <td>2</td>\n",
       "      <td>male</td>\n",
       "      <td>0</td>\n",
       "      <td>S</td>\n",
       "      <td>young_adult</td>\n",
       "      <td>cheap</td>\n",
       "    </tr>\n",
       "    <tr>\n",
       "      <th>887</th>\n",
       "      <td>1</td>\n",
       "      <td>1</td>\n",
       "      <td>female</td>\n",
       "      <td>0</td>\n",
       "      <td>S</td>\n",
       "      <td>young_adult</td>\n",
       "      <td>cheap</td>\n",
       "    </tr>\n",
       "    <tr>\n",
       "      <th>888</th>\n",
       "      <td>0</td>\n",
       "      <td>3</td>\n",
       "      <td>female</td>\n",
       "      <td>3</td>\n",
       "      <td>S</td>\n",
       "      <td>young_adult</td>\n",
       "      <td>cheap</td>\n",
       "    </tr>\n",
       "    <tr>\n",
       "      <th>889</th>\n",
       "      <td>1</td>\n",
       "      <td>1</td>\n",
       "      <td>male</td>\n",
       "      <td>0</td>\n",
       "      <td>C</td>\n",
       "      <td>young_adult</td>\n",
       "      <td>cheap</td>\n",
       "    </tr>\n",
       "    <tr>\n",
       "      <th>890</th>\n",
       "      <td>0</td>\n",
       "      <td>3</td>\n",
       "      <td>male</td>\n",
       "      <td>0</td>\n",
       "      <td>Q</td>\n",
       "      <td>middle_aged_adult</td>\n",
       "      <td>cheap</td>\n",
       "    </tr>\n",
       "  </tbody>\n",
       "</table>\n",
       "<p>891 rows × 7 columns</p>\n",
       "</div>"
      ],
      "text/plain": [
       "     Survived  Pclass     Sex  Accompanied Embarked          Age_group  \\\n",
       "0           0       3    male            1        S        young_adult   \n",
       "1           1       1  female            1        C  middle_aged_adult   \n",
       "2           1       3  female            0        S        young_adult   \n",
       "3           1       1  female            1        S  middle_aged_adult   \n",
       "4           0       3    male            0        S  middle_aged_adult   \n",
       "..        ...     ...     ...          ...      ...                ...   \n",
       "886         0       2    male            0        S        young_adult   \n",
       "887         1       1  female            0        S        young_adult   \n",
       "888         0       3  female            3        S        young_adult   \n",
       "889         1       1    male            0        C        young_adult   \n",
       "890         0       3    male            0        Q  middle_aged_adult   \n",
       "\n",
       "    Fare_group  \n",
       "0        cheap  \n",
       "1        cheap  \n",
       "2        cheap  \n",
       "3        cheap  \n",
       "4        cheap  \n",
       "..         ...  \n",
       "886      cheap  \n",
       "887      cheap  \n",
       "888      cheap  \n",
       "889      cheap  \n",
       "890      cheap  \n",
       "\n",
       "[891 rows x 7 columns]"
      ]
     },
     "execution_count": 36,
     "metadata": {},
     "output_type": "execute_result"
    }
   ],
   "source": [
    "data_transformed"
   ]
  },
  {
   "cell_type": "markdown",
   "id": "aa67444a",
   "metadata": {},
   "source": [
    "### MODEL BUILDING "
   ]
  },
  {
   "cell_type": "code",
   "execution_count": 44,
   "id": "34277fee",
   "metadata": {},
   "outputs": [],
   "source": [
    "from sklearn.model_selection import train_test_split, StratifiedKFold, RandomizedSearchCV, cross_val_score, learning_curve\n",
    "from sklearn.tree import DecisionTreeClassifier\n",
    "from sklearn.linear_model import LogisticRegression\n",
    "from sklearn.svm import SVC\n",
    "from sklearn.ensemble import RandomForestClassifier, VotingClassifier\n",
    "from sklearn.preprocessing import OneHotEncoder, LabelEncoder, FunctionTransformer\n",
    "from sklearn.compose import ColumnTransformer\n",
    "from sklearn.tree import plot_tree\n",
    "from sklearn import metrics\n",
    "from sklearn import metrics\n",
    "from xgboost import XGBClassifier\n",
    "from sklearn.impute import SimpleImputer\n",
    "from scipy.stats import uniform, truncnorm, randint\n"
   ]
  },
  {
   "cell_type": "code",
   "execution_count": 45,
   "id": "f7d30ddd",
   "metadata": {},
   "outputs": [],
   "source": [
    "inputs = data_transformed.copy().drop('Survived', axis = 1)\n",
    "target = data_transformed['Survived']"
   ]
  },
  {
   "cell_type": "code",
   "execution_count": 46,
   "id": "86c7693d",
   "metadata": {
    "scrolled": true
   },
   "outputs": [
    {
     "data": {
      "text/html": [
       "<div>\n",
       "<style scoped>\n",
       "    .dataframe tbody tr th:only-of-type {\n",
       "        vertical-align: middle;\n",
       "    }\n",
       "\n",
       "    .dataframe tbody tr th {\n",
       "        vertical-align: top;\n",
       "    }\n",
       "\n",
       "    .dataframe thead th {\n",
       "        text-align: right;\n",
       "    }\n",
       "</style>\n",
       "<table border=\"1\" class=\"dataframe\">\n",
       "  <thead>\n",
       "    <tr style=\"text-align: right;\">\n",
       "      <th></th>\n",
       "      <th>Pclass</th>\n",
       "      <th>Sex</th>\n",
       "      <th>Accompanied</th>\n",
       "      <th>Embarked</th>\n",
       "      <th>Age_group</th>\n",
       "      <th>Fare_group</th>\n",
       "    </tr>\n",
       "  </thead>\n",
       "  <tbody>\n",
       "    <tr>\n",
       "      <th>0</th>\n",
       "      <td>3</td>\n",
       "      <td>male</td>\n",
       "      <td>1</td>\n",
       "      <td>S</td>\n",
       "      <td>young_adult</td>\n",
       "      <td>cheap</td>\n",
       "    </tr>\n",
       "    <tr>\n",
       "      <th>1</th>\n",
       "      <td>1</td>\n",
       "      <td>female</td>\n",
       "      <td>1</td>\n",
       "      <td>C</td>\n",
       "      <td>middle_aged_adult</td>\n",
       "      <td>cheap</td>\n",
       "    </tr>\n",
       "    <tr>\n",
       "      <th>2</th>\n",
       "      <td>3</td>\n",
       "      <td>female</td>\n",
       "      <td>0</td>\n",
       "      <td>S</td>\n",
       "      <td>young_adult</td>\n",
       "      <td>cheap</td>\n",
       "    </tr>\n",
       "    <tr>\n",
       "      <th>3</th>\n",
       "      <td>1</td>\n",
       "      <td>female</td>\n",
       "      <td>1</td>\n",
       "      <td>S</td>\n",
       "      <td>middle_aged_adult</td>\n",
       "      <td>cheap</td>\n",
       "    </tr>\n",
       "    <tr>\n",
       "      <th>4</th>\n",
       "      <td>3</td>\n",
       "      <td>male</td>\n",
       "      <td>0</td>\n",
       "      <td>S</td>\n",
       "      <td>middle_aged_adult</td>\n",
       "      <td>cheap</td>\n",
       "    </tr>\n",
       "  </tbody>\n",
       "</table>\n",
       "</div>"
      ],
      "text/plain": [
       "   Pclass     Sex  Accompanied Embarked          Age_group Fare_group\n",
       "0       3    male            1        S        young_adult      cheap\n",
       "1       1  female            1        C  middle_aged_adult      cheap\n",
       "2       3  female            0        S        young_adult      cheap\n",
       "3       1  female            1        S  middle_aged_adult      cheap\n",
       "4       3    male            0        S  middle_aged_adult      cheap"
      ]
     },
     "execution_count": 46,
     "metadata": {},
     "output_type": "execute_result"
    }
   ],
   "source": [
    "inputs.head()"
   ]
  },
  {
   "cell_type": "code",
   "execution_count": 47,
   "id": "fd78c6d5",
   "metadata": {
    "scrolled": false
   },
   "outputs": [
    {
     "data": {
      "text/plain": [
       "0    0\n",
       "1    1\n",
       "2    1\n",
       "3    1\n",
       "4    0\n",
       "Name: Survived, dtype: int64"
      ]
     },
     "execution_count": 47,
     "metadata": {},
     "output_type": "execute_result"
    }
   ],
   "source": [
    "target.head()"
   ]
  },
  {
   "cell_type": "code",
   "execution_count": 48,
   "id": "998690d3",
   "metadata": {},
   "outputs": [],
   "source": [
    "# CAT ENCODING \n",
    "cat_encoding = ColumnTransformer([\n",
    "                                ('one hot', OneHotEncoder(handle_unknown='ignore'), ['Sex', 'Embarked', 'Age_group', 'Fare_group'])\n",
    "                                ], remainder = 'passthrough')"
   ]
  },
  {
   "cell_type": "code",
   "execution_count": 51,
   "id": "e847fe36",
   "metadata": {
    "scrolled": false
   },
   "outputs": [
    {
     "name": "stdout",
     "output_type": "stream",
     "text": [
      "RANDOM FOREST accuracy: 0.8137153976523759\n",
      "-------------------------------------------\n",
      "LOGISTIC REGRESSION accuracy: 0.7890025735986442\n",
      "-------------------------------------------\n",
      "SUPPORT VECTOR MACHINE accuracy: 0.8215366267026551\n",
      "-------------------------------------------\n"
     ]
    },
    {
     "data": {
      "image/png": "[encoded data removed]",
      "text/plain": [
       "<Figure size 1000x800 with 3 Axes>"
      ]
     },
     "metadata": {},
     "output_type": "display_data"
    }
   ],
   "source": [
    "models = [RandomForestClassifier(), LogisticRegression(), SVC(probability = True)] \n",
    "\n",
    "model_names = ['RANDOM FOREST', 'LOGISTIC REGRESSION', 'SUPPORT VECTOR MACHINE']\n",
    "\n",
    "rf_tuning_params = {\n",
    "                    'model__max_depth': randint(1, 20),\n",
    "                    'model__min_samples_leaf': randint(5, 100),\n",
    "                    'model__criterion': [\"gini\", \"entropy\"]\n",
    "                    }\n",
    "lr_tuning_params = {\n",
    "                    'model__C' : uniform(0.1, 20),\n",
    "                    'model__solver' : ['newton-cg','sag','saga'],\n",
    "                    'model__max_iter' :  randint(100, 10000)\n",
    "                    }\n",
    "sv_tuning_params = {\n",
    "                    'model__C': uniform(0.1, 100), \n",
    "                    'model__kernel': ['rbf', 'poly', 'sigmoid']\n",
    "                    }\n",
    "\n",
    "params = [rf_tuning_params, lr_tuning_params, sv_tuning_params]\n",
    "\n",
    "fig, ax = plt.subplots(3)\n",
    "fig.tight_layout(pad=5)\n",
    "\n",
    "models_tuned = []\n",
    "for model, name, param, index  in zip(models, model_names, params, range(len(models))):\n",
    "    pipe = Pipeline([('cat_encoding', cat_encoding),\n",
    "                 ('model', model)])\n",
    "    tuning = RandomizedSearchCV(pipe, param, n_iter = 10, cv = 5, scoring = 'accuracy')\n",
    "    tuning.fit(inputs, target)\n",
    "    print(f\"{name} accuracy: {tuning.best_score_}\")\n",
    "    models_tuned.append(tuning.best_estimator_)\n",
    "    train_size, train_score, test_score = learning_curve(tuning.best_estimator_,\n",
    "                                                     inputs, target, cv = 5, \n",
    "                                                     scoring = 'accuracy',\n",
    "                                                     n_jobs = -1, train_sizes = np.linspace(0.01,1,50))\n",
    "    train_mean = np.mean(train_score, axis=1)\n",
    "    train_std = np.std(train_score, axis=1)\n",
    "    val_mean = np.mean(test_score, axis=1)\n",
    "    val_std = np.std(test_score, axis=1)\n",
    "    \n",
    "    if index == 0:\n",
    "        ax[0].plot(train_size, train_mean)\n",
    "        ax[0].plot(train_size, val_mean)\n",
    "        ax[0].set_title(f\"{name} learning curve\")\n",
    "        ax[0].set_xlabel('Test size')\n",
    "        ax[0].set_ylabel('Accuracy')\n",
    "    elif index == 1:\n",
    "        ax[1].plot(train_size, train_mean)\n",
    "        ax[1].plot(train_size, val_mean)   \n",
    "        ax[1].set_title(f\"{name} learning curve\")\n",
    "        ax[1].set_xlabel('Test size')\n",
    "        ax[1].set_ylabel('Accuracy')\n",
    "    elif index == 2:\n",
    "        ax[2].plot(train_size, train_mean)\n",
    "        ax[2].plot(train_size, val_mean)\n",
    "        ax[2].set_title(f\"{name} learning curve\")\n",
    "        ax[2].set_xlabel('Test size')\n",
    "        ax[2].set_ylabel('Accuracy')\n",
    "    \n",
    "        \n",
    "    print('-------------------------------------------')\n",
    "    \n",
    "    "
   ]
  },
  {
   "cell_type": "code",
   "execution_count": 52,
   "id": "83baa964",
   "metadata": {
    "scrolled": false
   },
   "outputs": [
    {
     "data": {
      "text/plain": [
       "[Pipeline(steps=[('cat_encoding',\n",
       "                  ColumnTransformer(remainder='passthrough',\n",
       "                                    transformers=[('one hot',\n",
       "                                                   OneHotEncoder(handle_unknown='ignore'),\n",
       "                                                   ['Sex', 'Embarked',\n",
       "                                                    'Age_group',\n",
       "                                                    'Fare_group'])])),\n",
       "                 ('model',\n",
       "                  RandomForestClassifier(max_depth=12, min_samples_leaf=6))]),\n",
       " Pipeline(steps=[('cat_encoding',\n",
       "                  ColumnTransformer(remainder='passthrough',\n",
       "                                    transformers=[('one hot',\n",
       "                                                   OneHotEncoder(handle_unknown='ignore'),\n",
       "                                                   ['Sex', 'Embarked',\n",
       "                                                    'Age_group',\n",
       "                                                    'Fare_group'])])),\n",
       "                 ('model',\n",
       "                  LogisticRegression(C=9.085797268157519, max_iter=9570,\n",
       "                                     solver='saga'))]),\n",
       " Pipeline(steps=[('cat_encoding',\n",
       "                  ColumnTransformer(remainder='passthrough',\n",
       "                                    transformers=[('one hot',\n",
       "                                                   OneHotEncoder(handle_unknown='ignore'),\n",
       "                                                   ['Sex', 'Embarked',\n",
       "                                                    'Age_group',\n",
       "                                                    'Fare_group'])])),\n",
       "                 ('model', SVC(C=7.101959068889041, probability=True))])]"
      ]
     },
     "execution_count": 52,
     "metadata": {},
     "output_type": "execute_result"
    }
   ],
   "source": [
    "models_tuned"
   ]
  },
  {
   "cell_type": "code",
   "execution_count": 53,
   "id": "bd169fa1",
   "metadata": {},
   "outputs": [
    {
     "data": {
      "text/html": [
       "<style>#sk-container-id-1 {color: black;background-color: white;}#sk-container-id-1 pre{padding: 0;}#sk-container-id-1 div.sk-toggleable {background-color: white;}#sk-container-id-1 label.sk-toggleable__label {cursor: pointer;display: block;width: 100%;margin-bottom: 0;padding: 0.3em;box-sizing: border-box;text-align: center;}#sk-container-id-1 label.sk-toggleable__label-arrow:before {content: \"▸\";float: left;margin-right: 0.25em;color: #696969;}#sk-container-id-1 label.sk-toggleable__label-arrow:hover:before {color: black;}#sk-container-id-1 div.sk-estimator:hover label.sk-toggleable__label-arrow:before {color: black;}#sk-container-id-1 div.sk-toggleable__content {max-height: 0;max-width: 0;overflow: hidden;text-align: left;background-color: #f0f8ff;}#sk-container-id-1 div.sk-toggleable__content pre {margin: 0.2em;color: black;border-radius: 0.25em;background-color: #f0f8ff;}#sk-container-id-1 input.sk-toggleable__control:checked~div.sk-toggleable__content {max-height: 200px;max-width: 100%;overflow: auto;}#sk-container-id-1 input.sk-toggleable__control:checked~label.sk-toggleable__label-arrow:before {content: \"▾\";}#sk-container-id-1 div.sk-estimator input.sk-toggleable__control:checked~label.sk-toggleable__label {background-color: #d4ebff;}#sk-container-id-1 div.sk-label input.sk-toggleable__control:checked~label.sk-toggleable__label {background-color: #d4ebff;}#sk-container-id-1 input.sk-hidden--visually {border: 0;clip: rect(1px 1px 1px 1px);clip: rect(1px, 1px, 1px, 1px);height: 1px;margin: -1px;overflow: hidden;padding: 0;position: absolute;width: 1px;}#sk-container-id-1 div.sk-estimator {font-family: monospace;background-color: #f0f8ff;border: 1px dotted black;border-radius: 0.25em;box-sizing: border-box;margin-bottom: 0.5em;}#sk-container-id-1 div.sk-estimator:hover {background-color: #d4ebff;}#sk-container-id-1 div.sk-parallel-item::after {content: \"\";width: 100%;border-bottom: 1px solid gray;flex-grow: 1;}#sk-container-id-1 div.sk-label:hover label.sk-toggleable__label {background-color: #d4ebff;}#sk-container-id-1 div.sk-serial::before {content: \"\";position: absolute;border-left: 1px solid gray;box-sizing: border-box;top: 0;bottom: 0;left: 50%;z-index: 0;}#sk-container-id-1 div.sk-serial {display: flex;flex-direction: column;align-items: center;background-color: white;padding-right: 0.2em;padding-left: 0.2em;position: relative;}#sk-container-id-1 div.sk-item {position: relative;z-index: 1;}#sk-container-id-1 div.sk-parallel {display: flex;align-items: stretch;justify-content: center;background-color: white;position: relative;}#sk-container-id-1 div.sk-item::before, #sk-container-id-1 div.sk-parallel-item::before {content: \"\";position: absolute;border-left: 1px solid gray;box-sizing: border-box;top: 0;bottom: 0;left: 50%;z-index: -1;}#sk-container-id-1 div.sk-parallel-item {display: flex;flex-direction: column;z-index: 1;position: relative;background-color: white;}#sk-container-id-1 div.sk-parallel-item:first-child::after {align-self: flex-end;width: 50%;}#sk-container-id-1 div.sk-parallel-item:last-child::after {align-self: flex-start;width: 50%;}#sk-container-id-1 div.sk-parallel-item:only-child::after {width: 0;}#sk-container-id-1 div.sk-dashed-wrapped {border: 1px dashed gray;margin: 0 0.4em 0.5em 0.4em;box-sizing: border-box;padding-bottom: 0.4em;background-color: white;}#sk-container-id-1 div.sk-label label {font-family: monospace;font-weight: bold;display: inline-block;line-height: 1.2em;}#sk-container-id-1 div.sk-label-container {text-align: center;}#sk-container-id-1 div.sk-container {/* jupyter's `normalize.less` sets `[hidden] { display: none; }` but bootstrap.min.css set `[hidden] { display: none !important; }` so we also need the `!important` here to be able to override the default hidden behavior on the sphinx rendered scikit-learn.org. See: https://github.com/scikit-learn/scikit-learn/issues/21755 */display: inline-block !important;position: relative;}#sk-container-id-1 div.sk-text-repr-fallback {display: none;}</style><div id=\"sk-container-id-1\" class=\"sk-top-container\"><div class=\"sk-text-repr-fallback\"><pre>VotingClassifier(estimators=[(&#x27;rf&#x27;,\n",
       "                              Pipeline(steps=[(&#x27;cat_encoding&#x27;,\n",
       "                                               ColumnTransformer(remainder=&#x27;passthrough&#x27;,\n",
       "                                                                 transformers=[(&#x27;one &#x27;\n",
       "                                                                                &#x27;hot&#x27;,\n",
       "                                                                                OneHotEncoder(handle_unknown=&#x27;ignore&#x27;),\n",
       "                                                                                [&#x27;Sex&#x27;,\n",
       "                                                                                 &#x27;Embarked&#x27;,\n",
       "                                                                                 &#x27;Age_group&#x27;,\n",
       "                                                                                 &#x27;Fare_group&#x27;])])),\n",
       "                                              (&#x27;model&#x27;,\n",
       "                                               RandomForestClassifier(max_depth=12,\n",
       "                                                                      min_samples_leaf=6))])),\n",
       "                             (&#x27;lr&#x27;,\n",
       "                              Pipeline(steps=[(&#x27;cat_encoding&#x27;,\n",
       "                                               ColumnTransformer(rem...\n",
       "                                                                                 &#x27;Fare_group&#x27;])])),\n",
       "                                              (&#x27;model&#x27;,\n",
       "                                               LogisticRegression(C=9.085797268157519,\n",
       "                                                                  max_iter=9570,\n",
       "                                                                  solver=&#x27;saga&#x27;))])),\n",
       "                             (&#x27;svc&#x27;,\n",
       "                              Pipeline(steps=[(&#x27;cat_encoding&#x27;,\n",
       "                                               ColumnTransformer(remainder=&#x27;passthrough&#x27;,\n",
       "                                                                 transformers=[(&#x27;one &#x27;\n",
       "                                                                                &#x27;hot&#x27;,\n",
       "                                                                                OneHotEncoder(handle_unknown=&#x27;ignore&#x27;),\n",
       "                                                                                [&#x27;Sex&#x27;,\n",
       "                                                                                 &#x27;Embarked&#x27;,\n",
       "                                                                                 &#x27;Age_group&#x27;,\n",
       "                                                                                 &#x27;Fare_group&#x27;])])),\n",
       "                                              (&#x27;model&#x27;,\n",
       "                                               SVC(C=7.101959068889041,\n",
       "                                                   probability=True))]))],\n",
       "                 n_jobs=4)</pre><b>In a Jupyter environment, please rerun this cell to show the HTML representation or trust the notebook. <br />On GitHub, the HTML representation is unable to render, please try loading this page with nbviewer.org.</b></div><div class=\"sk-container\" hidden><div class=\"sk-item sk-dashed-wrapped\"><div class=\"sk-label-container\"><div class=\"sk-label sk-toggleable\"><input class=\"sk-toggleable__control sk-hidden--visually\" id=\"sk-estimator-id-1\" type=\"checkbox\" ><label for=\"sk-estimator-id-1\" class=\"sk-toggleable__label sk-toggleable__label-arrow\">VotingClassifier</label><div class=\"sk-toggleable__content\"><pre>VotingClassifier(estimators=[(&#x27;rf&#x27;,\n",
       "                              Pipeline(steps=[(&#x27;cat_encoding&#x27;,\n",
       "                                               ColumnTransformer(remainder=&#x27;passthrough&#x27;,\n",
       "                                                                 transformers=[(&#x27;one &#x27;\n",
       "                                                                                &#x27;hot&#x27;,\n",
       "                                                                                OneHotEncoder(handle_unknown=&#x27;ignore&#x27;),\n",
       "                                                                                [&#x27;Sex&#x27;,\n",
       "                                                                                 &#x27;Embarked&#x27;,\n",
       "                                                                                 &#x27;Age_group&#x27;,\n",
       "                                                                                 &#x27;Fare_group&#x27;])])),\n",
       "                                              (&#x27;model&#x27;,\n",
       "                                               RandomForestClassifier(max_depth=12,\n",
       "                                                                      min_samples_leaf=6))])),\n",
       "                             (&#x27;lr&#x27;,\n",
       "                              Pipeline(steps=[(&#x27;cat_encoding&#x27;,\n",
       "                                               ColumnTransformer(rem...\n",
       "                                                                                 &#x27;Fare_group&#x27;])])),\n",
       "                                              (&#x27;model&#x27;,\n",
       "                                               LogisticRegression(C=9.085797268157519,\n",
       "                                                                  max_iter=9570,\n",
       "                                                                  solver=&#x27;saga&#x27;))])),\n",
       "                             (&#x27;svc&#x27;,\n",
       "                              Pipeline(steps=[(&#x27;cat_encoding&#x27;,\n",
       "                                               ColumnTransformer(remainder=&#x27;passthrough&#x27;,\n",
       "                                                                 transformers=[(&#x27;one &#x27;\n",
       "                                                                                &#x27;hot&#x27;,\n",
       "                                                                                OneHotEncoder(handle_unknown=&#x27;ignore&#x27;),\n",
       "                                                                                [&#x27;Sex&#x27;,\n",
       "                                                                                 &#x27;Embarked&#x27;,\n",
       "                                                                                 &#x27;Age_group&#x27;,\n",
       "                                                                                 &#x27;Fare_group&#x27;])])),\n",
       "                                              (&#x27;model&#x27;,\n",
       "                                               SVC(C=7.101959068889041,\n",
       "                                                   probability=True))]))],\n",
       "                 n_jobs=4)</pre></div></div></div><div class=\"sk-parallel\"><div class=\"sk-parallel-item\"><div class=\"sk-item\"><div class=\"sk-label-container\"><div class=\"sk-label sk-toggleable\"><label>rf</label></div></div><div class=\"sk-serial\"><div class=\"sk-item\"><div class=\"sk-serial\"><div class=\"sk-item sk-dashed-wrapped\"><div class=\"sk-label-container\"><div class=\"sk-label sk-toggleable\"><input class=\"sk-toggleable__control sk-hidden--visually\" id=\"sk-estimator-id-2\" type=\"checkbox\" ><label for=\"sk-estimator-id-2\" class=\"sk-toggleable__label sk-toggleable__label-arrow\">cat_encoding: ColumnTransformer</label><div class=\"sk-toggleable__content\"><pre>ColumnTransformer(remainder=&#x27;passthrough&#x27;,\n",
       "                  transformers=[(&#x27;one hot&#x27;,\n",
       "                                 OneHotEncoder(handle_unknown=&#x27;ignore&#x27;),\n",
       "                                 [&#x27;Sex&#x27;, &#x27;Embarked&#x27;, &#x27;Age_group&#x27;,\n",
       "                                  &#x27;Fare_group&#x27;])])</pre></div></div></div><div class=\"sk-parallel\"><div class=\"sk-parallel-item\"><div class=\"sk-item\"><div class=\"sk-label-container\"><div class=\"sk-label sk-toggleable\"><input class=\"sk-toggleable__control sk-hidden--visually\" id=\"sk-estimator-id-3\" type=\"checkbox\" ><label for=\"sk-estimator-id-3\" class=\"sk-toggleable__label sk-toggleable__label-arrow\">one hot</label><div class=\"sk-toggleable__content\"><pre>[&#x27;Sex&#x27;, &#x27;Embarked&#x27;, &#x27;Age_group&#x27;, &#x27;Fare_group&#x27;]</pre></div></div></div><div class=\"sk-serial\"><div class=\"sk-item\"><div class=\"sk-estimator sk-toggleable\"><input class=\"sk-toggleable__control sk-hidden--visually\" id=\"sk-estimator-id-4\" type=\"checkbox\" ><label for=\"sk-estimator-id-4\" class=\"sk-toggleable__label sk-toggleable__label-arrow\">OneHotEncoder</label><div class=\"sk-toggleable__content\"><pre>OneHotEncoder(handle_unknown=&#x27;ignore&#x27;)</pre></div></div></div></div></div></div><div class=\"sk-parallel-item\"><div class=\"sk-item\"><div class=\"sk-label-container\"><div class=\"sk-label sk-toggleable\"><input class=\"sk-toggleable__control sk-hidden--visually\" id=\"sk-estimator-id-5\" type=\"checkbox\" ><label for=\"sk-estimator-id-5\" class=\"sk-toggleable__label sk-toggleable__label-arrow\">remainder</label><div class=\"sk-toggleable__content\"><pre>[&#x27;Pclass&#x27;, &#x27;Accompanied&#x27;]</pre></div></div></div><div class=\"sk-serial\"><div class=\"sk-item\"><div class=\"sk-estimator sk-toggleable\"><input class=\"sk-toggleable__control sk-hidden--visually\" id=\"sk-estimator-id-6\" type=\"checkbox\" ><label for=\"sk-estimator-id-6\" class=\"sk-toggleable__label sk-toggleable__label-arrow\">passthrough</label><div class=\"sk-toggleable__content\"><pre>passthrough</pre></div></div></div></div></div></div></div></div><div class=\"sk-item\"><div class=\"sk-estimator sk-toggleable\"><input class=\"sk-toggleable__control sk-hidden--visually\" id=\"sk-estimator-id-7\" type=\"checkbox\" ><label for=\"sk-estimator-id-7\" class=\"sk-toggleable__label sk-toggleable__label-arrow\">RandomForestClassifier</label><div class=\"sk-toggleable__content\"><pre>RandomForestClassifier(max_depth=12, min_samples_leaf=6)</pre></div></div></div></div></div></div></div></div><div class=\"sk-parallel-item\"><div class=\"sk-item\"><div class=\"sk-label-container\"><div class=\"sk-label sk-toggleable\"><label>lr</label></div></div><div class=\"sk-serial\"><div class=\"sk-item\"><div class=\"sk-serial\"><div class=\"sk-item sk-dashed-wrapped\"><div class=\"sk-label-container\"><div class=\"sk-label sk-toggleable\"><input class=\"sk-toggleable__control sk-hidden--visually\" id=\"sk-estimator-id-8\" type=\"checkbox\" ><label for=\"sk-estimator-id-8\" class=\"sk-toggleable__label sk-toggleable__label-arrow\">cat_encoding: ColumnTransformer</label><div class=\"sk-toggleable__content\"><pre>ColumnTransformer(remainder=&#x27;passthrough&#x27;,\n",
       "                  transformers=[(&#x27;one hot&#x27;,\n",
       "                                 OneHotEncoder(handle_unknown=&#x27;ignore&#x27;),\n",
       "                                 [&#x27;Sex&#x27;, &#x27;Embarked&#x27;, &#x27;Age_group&#x27;,\n",
       "                                  &#x27;Fare_group&#x27;])])</pre></div></div></div><div class=\"sk-parallel\"><div class=\"sk-parallel-item\"><div class=\"sk-item\"><div class=\"sk-label-container\"><div class=\"sk-label sk-toggleable\"><input class=\"sk-toggleable__control sk-hidden--visually\" id=\"sk-estimator-id-9\" type=\"checkbox\" ><label for=\"sk-estimator-id-9\" class=\"sk-toggleable__label sk-toggleable__label-arrow\">one hot</label><div class=\"sk-toggleable__content\"><pre>[&#x27;Sex&#x27;, &#x27;Embarked&#x27;, &#x27;Age_group&#x27;, &#x27;Fare_group&#x27;]</pre></div></div></div><div class=\"sk-serial\"><div class=\"sk-item\"><div class=\"sk-estimator sk-toggleable\"><input class=\"sk-toggleable__control sk-hidden--visually\" id=\"sk-estimator-id-10\" type=\"checkbox\" ><label for=\"sk-estimator-id-10\" class=\"sk-toggleable__label sk-toggleable__label-arrow\">OneHotEncoder</label><div class=\"sk-toggleable__content\"><pre>OneHotEncoder(handle_unknown=&#x27;ignore&#x27;)</pre></div></div></div></div></div></div><div class=\"sk-parallel-item\"><div class=\"sk-item\"><div class=\"sk-label-container\"><div class=\"sk-label sk-toggleable\"><input class=\"sk-toggleable__control sk-hidden--visually\" id=\"sk-estimator-id-11\" type=\"checkbox\" ><label for=\"sk-estimator-id-11\" class=\"sk-toggleable__label sk-toggleable__label-arrow\">remainder</label><div class=\"sk-toggleable__content\"><pre>[&#x27;Pclass&#x27;, &#x27;Accompanied&#x27;]</pre></div></div></div><div class=\"sk-serial\"><div class=\"sk-item\"><div class=\"sk-estimator sk-toggleable\"><input class=\"sk-toggleable__control sk-hidden--visually\" id=\"sk-estimator-id-12\" type=\"checkbox\" ><label for=\"sk-estimator-id-12\" class=\"sk-toggleable__label sk-toggleable__label-arrow\">passthrough</label><div class=\"sk-toggleable__content\"><pre>passthrough</pre></div></div></div></div></div></div></div></div><div class=\"sk-item\"><div class=\"sk-estimator sk-toggleable\"><input class=\"sk-toggleable__control sk-hidden--visually\" id=\"sk-estimator-id-13\" type=\"checkbox\" ><label for=\"sk-estimator-id-13\" class=\"sk-toggleable__label sk-toggleable__label-arrow\">LogisticRegression</label><div class=\"sk-toggleable__content\"><pre>LogisticRegression(C=9.085797268157519, max_iter=9570, solver=&#x27;saga&#x27;)</pre></div></div></div></div></div></div></div></div><div class=\"sk-parallel-item\"><div class=\"sk-item\"><div class=\"sk-label-container\"><div class=\"sk-label sk-toggleable\"><label>svc</label></div></div><div class=\"sk-serial\"><div class=\"sk-item\"><div class=\"sk-serial\"><div class=\"sk-item sk-dashed-wrapped\"><div class=\"sk-label-container\"><div class=\"sk-label sk-toggleable\"><input class=\"sk-toggleable__control sk-hidden--visually\" id=\"sk-estimator-id-14\" type=\"checkbox\" ><label for=\"sk-estimator-id-14\" class=\"sk-toggleable__label sk-toggleable__label-arrow\">cat_encoding: ColumnTransformer</label><div class=\"sk-toggleable__content\"><pre>ColumnTransformer(remainder=&#x27;passthrough&#x27;,\n",
       "                  transformers=[(&#x27;one hot&#x27;,\n",
       "                                 OneHotEncoder(handle_unknown=&#x27;ignore&#x27;),\n",
       "                                 [&#x27;Sex&#x27;, &#x27;Embarked&#x27;, &#x27;Age_group&#x27;,\n",
       "                                  &#x27;Fare_group&#x27;])])</pre></div></div></div><div class=\"sk-parallel\"><div class=\"sk-parallel-item\"><div class=\"sk-item\"><div class=\"sk-label-container\"><div class=\"sk-label sk-toggleable\"><input class=\"sk-toggleable__control sk-hidden--visually\" id=\"sk-estimator-id-15\" type=\"checkbox\" ><label for=\"sk-estimator-id-15\" class=\"sk-toggleable__label sk-toggleable__label-arrow\">one hot</label><div class=\"sk-toggleable__content\"><pre>[&#x27;Sex&#x27;, &#x27;Embarked&#x27;, &#x27;Age_group&#x27;, &#x27;Fare_group&#x27;]</pre></div></div></div><div class=\"sk-serial\"><div class=\"sk-item\"><div class=\"sk-estimator sk-toggleable\"><input class=\"sk-toggleable__control sk-hidden--visually\" id=\"sk-estimator-id-16\" type=\"checkbox\" ><label for=\"sk-estimator-id-16\" class=\"sk-toggleable__label sk-toggleable__label-arrow\">OneHotEncoder</label><div class=\"sk-toggleable__content\"><pre>OneHotEncoder(handle_unknown=&#x27;ignore&#x27;)</pre></div></div></div></div></div></div><div class=\"sk-parallel-item\"><div class=\"sk-item\"><div class=\"sk-label-container\"><div class=\"sk-label sk-toggleable\"><input class=\"sk-toggleable__control sk-hidden--visually\" id=\"sk-estimator-id-17\" type=\"checkbox\" ><label for=\"sk-estimator-id-17\" class=\"sk-toggleable__label sk-toggleable__label-arrow\">remainder</label><div class=\"sk-toggleable__content\"><pre>[&#x27;Pclass&#x27;, &#x27;Accompanied&#x27;]</pre></div></div></div><div class=\"sk-serial\"><div class=\"sk-item\"><div class=\"sk-estimator sk-toggleable\"><input class=\"sk-toggleable__control sk-hidden--visually\" id=\"sk-estimator-id-18\" type=\"checkbox\" ><label for=\"sk-estimator-id-18\" class=\"sk-toggleable__label sk-toggleable__label-arrow\">passthrough</label><div class=\"sk-toggleable__content\"><pre>passthrough</pre></div></div></div></div></div></div></div></div><div class=\"sk-item\"><div class=\"sk-estimator sk-toggleable\"><input class=\"sk-toggleable__control sk-hidden--visually\" id=\"sk-estimator-id-19\" type=\"checkbox\" ><label for=\"sk-estimator-id-19\" class=\"sk-toggleable__label sk-toggleable__label-arrow\">SVC</label><div class=\"sk-toggleable__content\"><pre>SVC(C=7.101959068889041, probability=True)</pre></div></div></div></div></div></div></div></div></div></div></div></div>"
      ],
      "text/plain": [
       "VotingClassifier(estimators=[('rf',\n",
       "                              Pipeline(steps=[('cat_encoding',\n",
       "                                               ColumnTransformer(remainder='passthrough',\n",
       "                                                                 transformers=[('one '\n",
       "                                                                                'hot',\n",
       "                                                                                OneHotEncoder(handle_unknown='ignore'),\n",
       "                                                                                ['Sex',\n",
       "                                                                                 'Embarked',\n",
       "                                                                                 'Age_group',\n",
       "                                                                                 'Fare_group'])])),\n",
       "                                              ('model',\n",
       "                                               RandomForestClassifier(max_depth=12,\n",
       "                                                                      min_samples_leaf=6))])),\n",
       "                             ('lr',\n",
       "                              Pipeline(steps=[('cat_encoding',\n",
       "                                               ColumnTransformer(rem...\n",
       "                                                                                 'Fare_group'])])),\n",
       "                                              ('model',\n",
       "                                               LogisticRegression(C=9.085797268157519,\n",
       "                                                                  max_iter=9570,\n",
       "                                                                  solver='saga'))])),\n",
       "                             ('svc',\n",
       "                              Pipeline(steps=[('cat_encoding',\n",
       "                                               ColumnTransformer(remainder='passthrough',\n",
       "                                                                 transformers=[('one '\n",
       "                                                                                'hot',\n",
       "                                                                                OneHotEncoder(handle_unknown='ignore'),\n",
       "                                                                                ['Sex',\n",
       "                                                                                 'Embarked',\n",
       "                                                                                 'Age_group',\n",
       "                                                                                 'Fare_group'])])),\n",
       "                                              ('model',\n",
       "                                               SVC(C=7.101959068889041,\n",
       "                                                   probability=True))]))],\n",
       "                 n_jobs=4)"
      ]
     },
     "execution_count": 53,
     "metadata": {},
     "output_type": "execute_result"
    }
   ],
   "source": [
    "voting = VotingClassifier([('rf', models_tuned[0]), ('lr', models_tuned[1]),\n",
    "('svc', models_tuned[2])], voting='hard', n_jobs=4)\n",
    "\n",
    "voting.fit(inputs, target)"
   ]
  },
  {
   "cell_type": "code",
   "execution_count": 62,
   "id": "ae0cb87f",
   "metadata": {},
   "outputs": [],
   "source": [
    "test = pd.read_csv('test.csv')"
   ]
  },
  {
   "cell_type": "code",
   "execution_count": 64,
   "id": "1e9ac664",
   "metadata": {
    "scrolled": true
   },
   "outputs": [
    {
     "data": {
      "text/html": [
       "<div>\n",
       "<style scoped>\n",
       "    .dataframe tbody tr th:only-of-type {\n",
       "        vertical-align: middle;\n",
       "    }\n",
       "\n",
       "    .dataframe tbody tr th {\n",
       "        vertical-align: top;\n",
       "    }\n",
       "\n",
       "    .dataframe thead th {\n",
       "        text-align: right;\n",
       "    }\n",
       "</style>\n",
       "<table border=\"1\" class=\"dataframe\">\n",
       "  <thead>\n",
       "    <tr style=\"text-align: right;\">\n",
       "      <th></th>\n",
       "      <th>PassengerId</th>\n",
       "      <th>Pclass</th>\n",
       "      <th>Name</th>\n",
       "      <th>Sex</th>\n",
       "      <th>Age</th>\n",
       "      <th>SibSp</th>\n",
       "      <th>Parch</th>\n",
       "      <th>Ticket</th>\n",
       "      <th>Fare</th>\n",
       "      <th>Cabin</th>\n",
       "      <th>Embarked</th>\n",
       "    </tr>\n",
       "  </thead>\n",
       "  <tbody>\n",
       "    <tr>\n",
       "      <th>0</th>\n",
       "      <td>892</td>\n",
       "      <td>3</td>\n",
       "      <td>Kelly, Mr. James</td>\n",
       "      <td>male</td>\n",
       "      <td>34.5</td>\n",
       "      <td>0</td>\n",
       "      <td>0</td>\n",
       "      <td>330911</td>\n",
       "      <td>7.8292</td>\n",
       "      <td>NaN</td>\n",
       "      <td>Q</td>\n",
       "    </tr>\n",
       "    <tr>\n",
       "      <th>1</th>\n",
       "      <td>893</td>\n",
       "      <td>3</td>\n",
       "      <td>Wilkes, Mrs. James (Ellen Needs)</td>\n",
       "      <td>female</td>\n",
       "      <td>47.0</td>\n",
       "      <td>1</td>\n",
       "      <td>0</td>\n",
       "      <td>363272</td>\n",
       "      <td>7.0000</td>\n",
       "      <td>NaN</td>\n",
       "      <td>S</td>\n",
       "    </tr>\n",
       "    <tr>\n",
       "      <th>2</th>\n",
       "      <td>894</td>\n",
       "      <td>2</td>\n",
       "      <td>Myles, Mr. Thomas Francis</td>\n",
       "      <td>male</td>\n",
       "      <td>62.0</td>\n",
       "      <td>0</td>\n",
       "      <td>0</td>\n",
       "      <td>240276</td>\n",
       "      <td>9.6875</td>\n",
       "      <td>NaN</td>\n",
       "      <td>Q</td>\n",
       "    </tr>\n",
       "    <tr>\n",
       "      <th>3</th>\n",
       "      <td>895</td>\n",
       "      <td>3</td>\n",
       "      <td>Wirz, Mr. Albert</td>\n",
       "      <td>male</td>\n",
       "      <td>27.0</td>\n",
       "      <td>0</td>\n",
       "      <td>0</td>\n",
       "      <td>315154</td>\n",
       "      <td>8.6625</td>\n",
       "      <td>NaN</td>\n",
       "      <td>S</td>\n",
       "    </tr>\n",
       "    <tr>\n",
       "      <th>4</th>\n",
       "      <td>896</td>\n",
       "      <td>3</td>\n",
       "      <td>Hirvonen, Mrs. Alexander (Helga E Lindqvist)</td>\n",
       "      <td>female</td>\n",
       "      <td>22.0</td>\n",
       "      <td>1</td>\n",
       "      <td>1</td>\n",
       "      <td>3101298</td>\n",
       "      <td>12.2875</td>\n",
       "      <td>NaN</td>\n",
       "      <td>S</td>\n",
       "    </tr>\n",
       "  </tbody>\n",
       "</table>\n",
       "</div>"
      ],
      "text/plain": [
       "   PassengerId  Pclass                                          Name     Sex  \\\n",
       "0          892       3                              Kelly, Mr. James    male   \n",
       "1          893       3              Wilkes, Mrs. James (Ellen Needs)  female   \n",
       "2          894       2                     Myles, Mr. Thomas Francis    male   \n",
       "3          895       3                              Wirz, Mr. Albert    male   \n",
       "4          896       3  Hirvonen, Mrs. Alexander (Helga E Lindqvist)  female   \n",
       "\n",
       "    Age  SibSp  Parch   Ticket     Fare Cabin Embarked  \n",
       "0  34.5      0      0   330911   7.8292   NaN        Q  \n",
       "1  47.0      1      0   363272   7.0000   NaN        S  \n",
       "2  62.0      0      0   240276   9.6875   NaN        Q  \n",
       "3  27.0      0      0   315154   8.6625   NaN        S  \n",
       "4  22.0      1      1  3101298  12.2875   NaN        S  "
      ]
     },
     "execution_count": 64,
     "metadata": {},
     "output_type": "execute_result"
    }
   ],
   "source": [
    "test.head()"
   ]
  },
  {
   "cell_type": "code",
   "execution_count": 65,
   "id": "1fb041a6",
   "metadata": {
    "scrolled": true
   },
   "outputs": [
    {
     "data": {
      "text/plain": [
       "PassengerId      0\n",
       "Pclass           0\n",
       "Name             0\n",
       "Sex              0\n",
       "Age             86\n",
       "SibSp            0\n",
       "Parch            0\n",
       "Ticket           0\n",
       "Fare             1\n",
       "Cabin          327\n",
       "Embarked         0\n",
       "dtype: int64"
      ]
     },
     "execution_count": 65,
     "metadata": {},
     "output_type": "execute_result"
    }
   ],
   "source": [
    "test.isna().sum()"
   ]
  },
  {
   "cell_type": "code",
   "execution_count": 74,
   "id": "379d2a13",
   "metadata": {
    "scrolled": false
   },
   "outputs": [
    {
     "data": {
      "text/html": [
       "<div>\n",
       "<style scoped>\n",
       "    .dataframe tbody tr th:only-of-type {\n",
       "        vertical-align: middle;\n",
       "    }\n",
       "\n",
       "    .dataframe tbody tr th {\n",
       "        vertical-align: top;\n",
       "    }\n",
       "\n",
       "    .dataframe thead th {\n",
       "        text-align: right;\n",
       "    }\n",
       "</style>\n",
       "<table border=\"1\" class=\"dataframe\">\n",
       "  <thead>\n",
       "    <tr style=\"text-align: right;\">\n",
       "      <th></th>\n",
       "      <th>PassengerId</th>\n",
       "      <th>Pclass</th>\n",
       "      <th>Name</th>\n",
       "      <th>Sex</th>\n",
       "      <th>Age</th>\n",
       "      <th>SibSp</th>\n",
       "      <th>Parch</th>\n",
       "      <th>Ticket</th>\n",
       "      <th>Fare</th>\n",
       "      <th>Cabin</th>\n",
       "      <th>Embarked</th>\n",
       "    </tr>\n",
       "  </thead>\n",
       "  <tbody>\n",
       "    <tr>\n",
       "      <th>152</th>\n",
       "      <td>1044</td>\n",
       "      <td>3</td>\n",
       "      <td>Storey, Mr. Thomas</td>\n",
       "      <td>male</td>\n",
       "      <td>60.5</td>\n",
       "      <td>0</td>\n",
       "      <td>0</td>\n",
       "      <td>3701</td>\n",
       "      <td>NaN</td>\n",
       "      <td>NaN</td>\n",
       "      <td>S</td>\n",
       "    </tr>\n",
       "  </tbody>\n",
       "</table>\n",
       "</div>"
      ],
      "text/plain": [
       "     PassengerId  Pclass                Name   Sex   Age  SibSp  Parch Ticket  \\\n",
       "152         1044       3  Storey, Mr. Thomas  male  60.5      0      0   3701   \n",
       "\n",
       "     Fare Cabin Embarked  \n",
       "152   NaN   NaN        S  "
      ]
     },
     "execution_count": 74,
     "metadata": {},
     "output_type": "execute_result"
    }
   ],
   "source": [
    "test[test.Fare.isna()]"
   ]
  },
  {
   "cell_type": "code",
   "execution_count": 85,
   "id": "2dedb398",
   "metadata": {},
   "outputs": [
    {
     "data": {
      "text/plain": [
       "12.7189"
      ]
     },
     "execution_count": 85,
     "metadata": {},
     "output_type": "execute_result"
    }
   ],
   "source": [
    "test.query(\"Pclass == 3 & Sex == 'male' & Embarked == 'S'\")['Fare'].mean().round(4)"
   ]
  },
  {
   "cell_type": "code",
   "execution_count": 87,
   "id": "bcd3a670",
   "metadata": {
    "scrolled": true
   },
   "outputs": [],
   "source": [
    "test.Fare.fillna(test.query(\"Pclass == 3 & Sex == 'male' & Embarked == 'S'\")['Fare'].mean().round(4), inplace = True)"
   ]
  },
  {
   "cell_type": "code",
   "execution_count": 89,
   "id": "e215b51b",
   "metadata": {},
   "outputs": [
    {
     "data": {
      "text/html": [
       "<div>\n",
       "<style scoped>\n",
       "    .dataframe tbody tr th:only-of-type {\n",
       "        vertical-align: middle;\n",
       "    }\n",
       "\n",
       "    .dataframe tbody tr th {\n",
       "        vertical-align: top;\n",
       "    }\n",
       "\n",
       "    .dataframe thead th {\n",
       "        text-align: right;\n",
       "    }\n",
       "</style>\n",
       "<table border=\"1\" class=\"dataframe\">\n",
       "  <thead>\n",
       "    <tr style=\"text-align: right;\">\n",
       "      <th></th>\n",
       "      <th>PassengerId</th>\n",
       "      <th>Pclass</th>\n",
       "      <th>Name</th>\n",
       "      <th>Sex</th>\n",
       "      <th>Age</th>\n",
       "      <th>SibSp</th>\n",
       "      <th>Parch</th>\n",
       "      <th>Ticket</th>\n",
       "      <th>Fare</th>\n",
       "      <th>Cabin</th>\n",
       "      <th>Embarked</th>\n",
       "    </tr>\n",
       "  </thead>\n",
       "  <tbody>\n",
       "  </tbody>\n",
       "</table>\n",
       "</div>"
      ],
      "text/plain": [
       "Empty DataFrame\n",
       "Columns: [PassengerId, Pclass, Name, Sex, Age, SibSp, Parch, Ticket, Fare, Cabin, Embarked]\n",
       "Index: []"
      ]
     },
     "execution_count": 89,
     "metadata": {},
     "output_type": "execute_result"
    }
   ],
   "source": [
    "test[test.Fare.isna()]"
   ]
  },
  {
   "cell_type": "code",
   "execution_count": 90,
   "id": "f838a4fe",
   "metadata": {},
   "outputs": [],
   "source": [
    "test_transformed = transform.transform(test.copy())[['Pclass', 'Sex', 'Accompanied',\n",
    "                 'Embarked', 'Age_group', 'Fare_group']]"
   ]
  },
  {
   "cell_type": "code",
   "execution_count": 91,
   "id": "8f1cfc26",
   "metadata": {},
   "outputs": [
    {
     "data": {
      "text/html": [
       "<div>\n",
       "<style scoped>\n",
       "    .dataframe tbody tr th:only-of-type {\n",
       "        vertical-align: middle;\n",
       "    }\n",
       "\n",
       "    .dataframe tbody tr th {\n",
       "        vertical-align: top;\n",
       "    }\n",
       "\n",
       "    .dataframe thead th {\n",
       "        text-align: right;\n",
       "    }\n",
       "</style>\n",
       "<table border=\"1\" class=\"dataframe\">\n",
       "  <thead>\n",
       "    <tr style=\"text-align: right;\">\n",
       "      <th></th>\n",
       "      <th>Pclass</th>\n",
       "      <th>Sex</th>\n",
       "      <th>Accompanied</th>\n",
       "      <th>Embarked</th>\n",
       "      <th>Age_group</th>\n",
       "      <th>Fare_group</th>\n",
       "    </tr>\n",
       "  </thead>\n",
       "  <tbody>\n",
       "    <tr>\n",
       "      <th>0</th>\n",
       "      <td>3</td>\n",
       "      <td>male</td>\n",
       "      <td>0</td>\n",
       "      <td>Q</td>\n",
       "      <td>middle_aged_adult</td>\n",
       "      <td>cheap</td>\n",
       "    </tr>\n",
       "    <tr>\n",
       "      <th>1</th>\n",
       "      <td>3</td>\n",
       "      <td>female</td>\n",
       "      <td>1</td>\n",
       "      <td>S</td>\n",
       "      <td>old_aged_adult</td>\n",
       "      <td>cheap</td>\n",
       "    </tr>\n",
       "    <tr>\n",
       "      <th>2</th>\n",
       "      <td>2</td>\n",
       "      <td>male</td>\n",
       "      <td>0</td>\n",
       "      <td>Q</td>\n",
       "      <td>old_aged_adult</td>\n",
       "      <td>cheap</td>\n",
       "    </tr>\n",
       "    <tr>\n",
       "      <th>3</th>\n",
       "      <td>3</td>\n",
       "      <td>male</td>\n",
       "      <td>0</td>\n",
       "      <td>S</td>\n",
       "      <td>young_adult</td>\n",
       "      <td>cheap</td>\n",
       "    </tr>\n",
       "    <tr>\n",
       "      <th>4</th>\n",
       "      <td>3</td>\n",
       "      <td>female</td>\n",
       "      <td>2</td>\n",
       "      <td>S</td>\n",
       "      <td>young_adult</td>\n",
       "      <td>cheap</td>\n",
       "    </tr>\n",
       "  </tbody>\n",
       "</table>\n",
       "</div>"
      ],
      "text/plain": [
       "   Pclass     Sex  Accompanied Embarked          Age_group Fare_group\n",
       "0       3    male            0        Q  middle_aged_adult      cheap\n",
       "1       3  female            1        S     old_aged_adult      cheap\n",
       "2       2    male            0        Q     old_aged_adult      cheap\n",
       "3       3    male            0        S        young_adult      cheap\n",
       "4       3  female            2        S        young_adult      cheap"
      ]
     },
     "execution_count": 91,
     "metadata": {},
     "output_type": "execute_result"
    }
   ],
   "source": [
    "test_transformed.head()"
   ]
  },
  {
   "cell_type": "code",
   "execution_count": 94,
   "id": "9eb0450e",
   "metadata": {
    "scrolled": true
   },
   "outputs": [],
   "source": [
    "predictions = voting.predict(test_transformed)"
   ]
  },
  {
   "cell_type": "code",
   "execution_count": 100,
   "id": "fecab40c",
   "metadata": {},
   "outputs": [],
   "source": [
    "results =pd.concat([test['PassengerId'], pd.Series(predictions, name = 'Survived')], axis = 1)"
   ]
  },
  {
   "cell_type": "code",
   "execution_count": 101,
   "id": "2263753d",
   "metadata": {
    "scrolled": true
   },
   "outputs": [
    {
     "data": {
      "text/html": [
       "<div>\n",
       "<style scoped>\n",
       "    .dataframe tbody tr th:only-of-type {\n",
       "        vertical-align: middle;\n",
       "    }\n",
       "\n",
       "    .dataframe tbody tr th {\n",
       "        vertical-align: top;\n",
       "    }\n",
       "\n",
       "    .dataframe thead th {\n",
       "        text-align: right;\n",
       "    }\n",
       "</style>\n",
       "<table border=\"1\" class=\"dataframe\">\n",
       "  <thead>\n",
       "    <tr style=\"text-align: right;\">\n",
       "      <th></th>\n",
       "      <th>PassengerId</th>\n",
       "      <th>Survived</th>\n",
       "    </tr>\n",
       "  </thead>\n",
       "  <tbody>\n",
       "    <tr>\n",
       "      <th>0</th>\n",
       "      <td>892</td>\n",
       "      <td>0</td>\n",
       "    </tr>\n",
       "    <tr>\n",
       "      <th>1</th>\n",
       "      <td>893</td>\n",
       "      <td>1</td>\n",
       "    </tr>\n",
       "    <tr>\n",
       "      <th>2</th>\n",
       "      <td>894</td>\n",
       "      <td>0</td>\n",
       "    </tr>\n",
       "    <tr>\n",
       "      <th>3</th>\n",
       "      <td>895</td>\n",
       "      <td>0</td>\n",
       "    </tr>\n",
       "    <tr>\n",
       "      <th>4</th>\n",
       "      <td>896</td>\n",
       "      <td>0</td>\n",
       "    </tr>\n",
       "    <tr>\n",
       "      <th>...</th>\n",
       "      <td>...</td>\n",
       "      <td>...</td>\n",
       "    </tr>\n",
       "    <tr>\n",
       "      <th>413</th>\n",
       "      <td>1305</td>\n",
       "      <td>0</td>\n",
       "    </tr>\n",
       "    <tr>\n",
       "      <th>414</th>\n",
       "      <td>1306</td>\n",
       "      <td>1</td>\n",
       "    </tr>\n",
       "    <tr>\n",
       "      <th>415</th>\n",
       "      <td>1307</td>\n",
       "      <td>0</td>\n",
       "    </tr>\n",
       "    <tr>\n",
       "      <th>416</th>\n",
       "      <td>1308</td>\n",
       "      <td>0</td>\n",
       "    </tr>\n",
       "    <tr>\n",
       "      <th>417</th>\n",
       "      <td>1309</td>\n",
       "      <td>0</td>\n",
       "    </tr>\n",
       "  </tbody>\n",
       "</table>\n",
       "<p>418 rows × 2 columns</p>\n",
       "</div>"
      ],
      "text/plain": [
       "     PassengerId  Survived\n",
       "0            892         0\n",
       "1            893         1\n",
       "2            894         0\n",
       "3            895         0\n",
       "4            896         0\n",
       "..           ...       ...\n",
       "413         1305         0\n",
       "414         1306         1\n",
       "415         1307         0\n",
       "416         1308         0\n",
       "417         1309         0\n",
       "\n",
       "[418 rows x 2 columns]"
      ]
     },
     "execution_count": 101,
     "metadata": {},
     "output_type": "execute_result"
    }
   ],
   "source": [
    "results"
   ]
  },
  {
   "cell_type": "code",
   "execution_count": 103,
   "id": "c7aee09f",
   "metadata": {},
   "outputs": [],
   "source": [
    "results.to_csv(\"titanic.csv\",index=False)"
   ]
  },
  {
   "cell_type": "code",
   "execution_count": null,
   "id": "13b1fdd4",
   "metadata": {},
   "outputs": [],
   "source": []
  },
  {
   "cell_type": "code",
   "execution_count": null,
   "id": "cc833e31",
   "metadata": {},
   "outputs": [],
   "source": []
  }
 ],
 "metadata": {
  "kernelspec": {
   "display_name": "Python 3 (ipykernel)",
   "language": "python",
   "name": "python3"
  },
  "language_info": {
   "codemirror_mode": {
    "name": "ipython",
    "version": 3
   },
   "file_extension": ".py",
   "mimetype": "text/x-python",
   "name": "python",
   "nbconvert_exporter": "python",
   "pygments_lexer": "ipython3",
   "version": "3.9.12"
  }
 },
 "nbformat": 4,
 "nbformat_minor": 5
}
